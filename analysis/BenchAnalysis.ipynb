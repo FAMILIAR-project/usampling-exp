{
 "cells": [
  {
   "cell_type": "code",
   "execution_count": 27,
   "metadata": {},
   "outputs": [
    {
     "name": "stdout",
     "output_type": "stream",
     "text": [
      "Feature Models\n",
      "(0, 118, 118) (True/False)\n",
      "(117, 1, 118) (True/False)\n",
      "(117, 1, 118) (True/False)\n",
      "(78, 40, 118) (True/False)\n",
      "(117, 1, 118) (True/False)\n",
      "(0, 118, 118) (True/False)\n",
      "FMEasy\n",
      "(13, 4, 17) (True/False)\n",
      "(17, 0, 17) (True/False)\n",
      "(13, 4, 17) (True/False)\n",
      "(9, 8, 17) (True/False)\n",
      "(6, 11, 17) (True/False)\n",
      "(6, 11, 17) (True/False)\n",
      "All\n",
      "(66, 252, 318) (True/False)\n",
      "(154, 166, 320) (True/False)\n",
      "(136, 184, 320) (True/False)\n",
      "(115, 205, 320) (True/False)\n",
      "(145, 175, 320) (True/False)\n",
      "(17, 303, 320) (True/False)\n"
     ]
    }
   ],
   "source": [
    "import pandas as pd\n",
    "\n",
    "def timeouts_ratio(sampler_name, filter_formula=None):\n",
    "    df = pd.read_csv('../usampling-data/experiments-' + sampler_name + '.csv')\n",
    "    if filter_formula is not None:\n",
    "        df = df[df['formula_file'].str.contains(filter_formula)]\n",
    "    if (sampler_name == \"SMARCH\"):\n",
    "        return df.query('timeout_reached == True').shape[0], df.query('timeout_reached == False').shape[0], df.shape[0]\n",
    "    else:\n",
    "        return df.query('timeout == True').shape[0], df.query('timeout == False').shape[0], df.shape[0]\n",
    "\n",
    "sampler_names = ['DBS', \"Unigen2\", \"Unigen3\", \"KUS\", \"SMARCH\", \"SPUR\"]\n",
    "\n",
    "print(\"Feature Models\")\n",
    "for sampler_name in sampler_names:\n",
    "    print(timeouts_ratio(sampler_name, \"FeatureModels\"), \"(True/False)\")\n",
    "\n",
    "print(\"FMEasy\")\n",
    "for sampler_name in sampler_names:\n",
    "    print(timeouts_ratio(sampler_name, \"FMEasy\"), \"(True/False)\")\n",
    "\n",
    "print(\"All\")\n",
    "for sampler_name in sampler_names:\n",
    "    print(timeouts_ratio(sampler_name), \"(True/False)\")"
   ]
  },
  {
   "cell_type": "code",
   "execution_count": 21,
   "metadata": {},
   "outputs": [
    {
     "data": {
      "text/plain": [
       "1"
      ]
     },
     "execution_count": 21,
     "metadata": {},
     "output_type": "execute_result"
    }
   ],
   "source": [
    "df_smarch = pd.read_csv('../usampling-data/experiments-' + \"SMARCH\" + '.csv')\n",
    "df_smarch[df_smarch['formula_file'].str.contains(\"FeatureModels\")].query('timeout_reached == False').shape[0]"
   ]
  },
  {
   "cell_type": "code",
   "execution_count": null,
   "metadata": {},
   "outputs": [],
   "source": []
  }
 ],
 "metadata": {
  "kernelspec": {
   "display_name": "Python 3",
   "language": "python",
   "name": "python3"
  },
  "language_info": {
   "codemirror_mode": {
    "name": "ipython",
    "version": 3
   },
   "file_extension": ".py",
   "mimetype": "text/x-python",
   "name": "python",
   "nbconvert_exporter": "python",
   "pygments_lexer": "ipython3",
   "version": "3.7.6"
  }
 },
 "nbformat": 4,
 "nbformat_minor": 2
}
