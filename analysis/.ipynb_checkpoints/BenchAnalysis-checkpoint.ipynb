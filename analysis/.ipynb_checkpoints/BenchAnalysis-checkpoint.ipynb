{
 "cells": [
  {
   "cell_type": "code",
   "execution_count": 1,
   "metadata": {},
   "outputs": [
    {
     "name": "stdout",
     "output_type": "stream",
     "text": [
      "Feature Models\n"
     ]
    },
    {
     "data": {
      "text/html": [
       "<div>\n",
       "<style scoped>\n",
       "    .dataframe tbody tr th:only-of-type {\n",
       "        vertical-align: middle;\n",
       "    }\n",
       "\n",
       "    .dataframe tbody tr th {\n",
       "        vertical-align: top;\n",
       "    }\n",
       "\n",
       "    .dataframe thead th {\n",
       "        text-align: right;\n",
       "    }\n",
       "</style>\n",
       "<table border=\"1\" class=\"dataframe\">\n",
       "  <thead>\n",
       "    <tr style=\"text-align: right;\">\n",
       "      <th></th>\n",
       "      <th>sampler</th>\n",
       "      <th>timeout_featuremodel</th>\n",
       "      <th>timeout_fmeasy</th>\n",
       "      <th>timeout_all</th>\n",
       "    </tr>\n",
       "  </thead>\n",
       "  <tbody>\n",
       "    <tr>\n",
       "      <th>0</th>\n",
       "      <td>DBS</td>\n",
       "      <td>0</td>\n",
       "      <td>13</td>\n",
       "      <td>66</td>\n",
       "    </tr>\n",
       "    <tr>\n",
       "      <th>1</th>\n",
       "      <td>Unigen2</td>\n",
       "      <td>117</td>\n",
       "      <td>17</td>\n",
       "      <td>154</td>\n",
       "    </tr>\n",
       "    <tr>\n",
       "      <th>2</th>\n",
       "      <td>Unigen3</td>\n",
       "      <td>117</td>\n",
       "      <td>13</td>\n",
       "      <td>136</td>\n",
       "    </tr>\n",
       "    <tr>\n",
       "      <th>3</th>\n",
       "      <td>KUS</td>\n",
       "      <td>78</td>\n",
       "      <td>9</td>\n",
       "      <td>115</td>\n",
       "    </tr>\n",
       "    <tr>\n",
       "      <th>4</th>\n",
       "      <td>SMARCH</td>\n",
       "      <td>117</td>\n",
       "      <td>6</td>\n",
       "      <td>145</td>\n",
       "    </tr>\n",
       "    <tr>\n",
       "      <th>5</th>\n",
       "      <td>SPUR</td>\n",
       "      <td>0</td>\n",
       "      <td>6</td>\n",
       "      <td>17</td>\n",
       "    </tr>\n",
       "  </tbody>\n",
       "</table>\n",
       "</div>"
      ],
      "text/plain": [
       "   sampler timeout_featuremodel timeout_fmeasy timeout_all\n",
       "0      DBS                    0             13          66\n",
       "1  Unigen2                  117             17         154\n",
       "2  Unigen3                  117             13         136\n",
       "3      KUS                   78              9         115\n",
       "4   SMARCH                  117              6         145\n",
       "5     SPUR                    0              6          17"
      ]
     },
     "execution_count": 1,
     "metadata": {},
     "output_type": "execute_result"
    }
   ],
   "source": [
    "import pandas as pd\n",
    "\n",
    "def timeouts_ratio(sampler_name, filter_formula=None):\n",
    "    df = pd.read_csv('../usampling-data/experiments-' + sampler_name + '.csv')\n",
    "    if filter_formula is not None:\n",
    "        df = df[df['formula_file'].str.contains(filter_formula)]\n",
    "    if (sampler_name == \"SMARCH\"):\n",
    "        return df.query('timeout_reached == True').shape[0] # , df.query('timeout_reached == False').shape[0], df.shape[0]\n",
    "    else:\n",
    "        return df.query('timeout == True').shape[0] # , df.query('timeout == False').shape[0], df.shape[0]\n",
    "\n",
    "sampler_names = ['DBS', \"Unigen2\", \"Unigen3\", \"KUS\", \"SMARCH\", \"SPUR\"]\n",
    "\n",
    "dresult = pd.DataFrame(columns=['sampler', 'timeout_featuremodel', 'timeout_fmeasy', 'timeout_all'])\n",
    "print(\"Feature Models\")\n",
    "i = 0\n",
    "for sampler_name in sampler_names:\n",
    "    timeout_featuremodel = timeouts_ratio(sampler_name, \"FeatureModels\")\n",
    "    timeout_fmeasy = timeouts_ratio(sampler_name, \"FMEasy\")\n",
    "    timeout_all = timeouts_ratio(sampler_name, None)\n",
    "    dresult.loc[i] = (sampler_name, timeout_featuremodel, timeout_fmeasy, timeout_all)\n",
    "    i = i + 1\n",
    "\n",
    "dresult "
   ]
  },
  {
   "cell_type": "code",
   "execution_count": 2,
   "metadata": {},
   "outputs": [],
   "source": [
    "# df_smarch = pd.read_csv('../usampling-data/experiments-' + \"SMARCH\" + '.csv')\n",
    "# df_smarch[df_smarch['formula_file'].str.contains(\"FeatureModels\")].query('timeout_reached == False').shape[0]"
   ]
  },
  {
   "cell_type": "code",
   "execution_count": null,
   "metadata": {},
   "outputs": [],
   "source": []
  }
 ],
 "metadata": {
  "kernelspec": {
   "display_name": "Python 3",
   "language": "python",
   "name": "python3"
  },
  "language_info": {
   "codemirror_mode": {
    "name": "ipython",
    "version": 3
   },
   "file_extension": ".py",
   "mimetype": "text/x-python",
   "name": "python",
   "nbconvert_exporter": "python",
   "pygments_lexer": "ipython3",
   "version": "3.7.6"
  }
 },
 "nbformat": 4,
 "nbformat_minor": 2
}
