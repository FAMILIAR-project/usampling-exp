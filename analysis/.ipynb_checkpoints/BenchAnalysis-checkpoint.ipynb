{
 "cells": [
  {
   "cell_type": "code",
   "execution_count": 9,
   "metadata": {},
   "outputs": [
    {
     "name": "stdout",
     "output_type": "stream",
     "text": [
      "Feature Models\n"
     ]
    },
    {
     "data": {
      "text/html": [
       "<div>\n",
       "<style scoped>\n",
       "    .dataframe tbody tr th:only-of-type {\n",
       "        vertical-align: middle;\n",
       "    }\n",
       "\n",
       "    .dataframe tbody tr th {\n",
       "        vertical-align: top;\n",
       "    }\n",
       "\n",
       "    .dataframe thead th {\n",
       "        text-align: right;\n",
       "    }\n",
       "</style>\n",
       "<table border=\"1\" class=\"dataframe\">\n",
       "  <thead>\n",
       "    <tr style=\"text-align: right;\">\n",
       "      <th></th>\n",
       "      <th>sampler</th>\n",
       "      <th>timeout_featuremodel</th>\n",
       "      <th>timeout_fmeasy</th>\n",
       "      <th>timeout_flas_only</th>\n",
       "      <th>success_all</th>\n",
       "      <th>nb_formulas_treated</th>\n",
       "    </tr>\n",
       "  </thead>\n",
       "  <tbody>\n",
       "    <tr>\n",
       "      <th>0</th>\n",
       "      <td>DBS</td>\n",
       "      <td>0</td>\n",
       "      <td>12</td>\n",
       "      <td>4</td>\n",
       "      <td>12</td>\n",
       "      <td>28</td>\n",
       "    </tr>\n",
       "    <tr>\n",
       "      <th>1</th>\n",
       "      <td>Unigen2</td>\n",
       "      <td>116</td>\n",
       "      <td>16</td>\n",
       "      <td>3</td>\n",
       "      <td>3</td>\n",
       "      <td>138</td>\n",
       "    </tr>\n",
       "    <tr>\n",
       "      <th>2</th>\n",
       "      <td>Unigen3</td>\n",
       "      <td>116</td>\n",
       "      <td>11</td>\n",
       "      <td>0</td>\n",
       "      <td>1</td>\n",
       "      <td>128</td>\n",
       "    </tr>\n",
       "    <tr>\n",
       "      <th>3</th>\n",
       "      <td>KUS</td>\n",
       "      <td>13</td>\n",
       "      <td>8</td>\n",
       "      <td>18</td>\n",
       "      <td>48</td>\n",
       "      <td>87</td>\n",
       "    </tr>\n",
       "    <tr>\n",
       "      <th>4</th>\n",
       "      <td>SMARCH</td>\n",
       "      <td>116</td>\n",
       "      <td>5</td>\n",
       "      <td>0</td>\n",
       "      <td>1</td>\n",
       "      <td>122</td>\n",
       "    </tr>\n",
       "    <tr>\n",
       "      <th>5</th>\n",
       "      <td>SPUR</td>\n",
       "      <td>0</td>\n",
       "      <td>2</td>\n",
       "      <td>0</td>\n",
       "      <td>0</td>\n",
       "      <td>2</td>\n",
       "    </tr>\n",
       "  </tbody>\n",
       "</table>\n",
       "</div>"
      ],
      "text/plain": [
       "   sampler timeout_featuremodel timeout_fmeasy timeout_flas_only success_all  \\\n",
       "0      DBS                    0             12                 4          12   \n",
       "1  Unigen2                  116             16                 3           3   \n",
       "2  Unigen3                  116             11                 0           1   \n",
       "3      KUS                   13              8                18          48   \n",
       "4   SMARCH                  116              5                 0           1   \n",
       "5     SPUR                    0              2                 0           0   \n",
       "\n",
       "  nb_formulas_treated  \n",
       "0                  28  \n",
       "1                 138  \n",
       "2                 128  \n",
       "3                  87  \n",
       "4                 122  \n",
       "5                   2  "
      ]
     },
     "execution_count": 9,
     "metadata": {},
     "output_type": "execute_result"
    }
   ],
   "source": [
    "import pandas as pd\n",
    "\n",
    "def get_df(sampler_name):\n",
    "    return pd.read_csv('../usampling-data/experiments-' + sampler_name + '.csv')\n",
    "    # return pd.read_csv('../usampling-data/results-timeout180-IGRIDA/experiments-' + sampler_name + '.csv')\n",
    "\n",
    "def timeouts_ratio(sampler_name, filter_formula=None):\n",
    "    df = get_df(sampler_name)\n",
    "    if filter_formula is not None:\n",
    "        df = df[df['formula_file'].str.contains(filter_formula)]\n",
    "    if (sampler_name == \"SMARCH\"):\n",
    "        return df.query('timeout_reached == True').shape[0] # , df.query('timeout_reached == False').shape[0], df.shape[0]\n",
    "    else:\n",
    "        return df.query('timeout == True').shape[0] # , df.query('timeout == False').shape[0], df.shape[0]\n",
    "\n",
    "def no_timeouts(sampler_name, filter_formula=None):\n",
    "    df = get_df(sampler_name)\n",
    "    if filter_formula is not None:\n",
    "        df = df[df['formula_file'].str.contains(filter_formula)]\n",
    "    if (sampler_name == \"SMARCH\"):\n",
    "        return df.query('timeout_reached == False').shape[0] # , df.query('timeout_reached == False').shape[0], df.shape[0]\n",
    "    else:\n",
    "        return df.query('timeout == False').shape[0] # , df.query('timeout == False').shape[0], df.shape[0]\n",
    "    \n",
    "sampler_names = ['DBS', \"Unigen2\", \"Unigen3\", \"KUS\", \"SMARCH\", \"SPUR\"]\n",
    "\n",
    "dresult = pd.DataFrame(columns=['sampler', 'timeout_featuremodel', 'timeout_fmeasy', 'timeout_flas_only', 'success_all', 'nb_formulas_treated'])\n",
    "print(\"Feature Models\")\n",
    "i = 0\n",
    "for sampler_name in sampler_names:\n",
    "    timeout_featuremodel = timeouts_ratio(sampler_name, \"FeatureModels\")\n",
    "    timeout_fmeasy = timeouts_ratio(sampler_name, \"FMEasy\")\n",
    "    timeout_flas = timeouts_ratio(sampler_name, None) - timeout_featuremodel - timeout_fmeasy\n",
    "    nb_formulas = get_df(sampler_name).shape[0]\n",
    "    success_all = no_timeouts(sampler_name, None)\n",
    "    dresult.loc[i] = (sampler_name, timeout_featuremodel, timeout_fmeasy, timeout_flas, success_all, nb_formulas)\n",
    "    i = i + 1\n",
    "\n",
    "dresult "
   ]
  },
  {
   "cell_type": "code",
   "execution_count": 2,
   "metadata": {},
   "outputs": [],
   "source": [
    "# df_smarch = pd.read_csv('../usampling-data/experiments-' + \"SMARCH\" + '.csv')\n",
    "# df_smarch[df_smarch['formula_file'].str.contains(\"FeatureModels\")].query('timeout_reached == False').shape[0]"
   ]
  },
  {
   "cell_type": "code",
   "execution_count": 3,
   "metadata": {},
   "outputs": [
    {
     "data": {
      "text/plain": [
       "(set(), 266, 266)"
      ]
     },
     "execution_count": 3,
     "metadata": {},
     "output_type": "execute_result"
    }
   ],
   "source": [
    "# flas + FM + FMEasy \n",
    "flas_to_process = ['/home/samplingfm/Benchmarks/V15/s420_15_7.cnf', '/home/samplingfm/Benchmarks/Blasted_Real/blasted_squaring24.cnf', '/home/samplingfm/Benchmarks/Blasted_Real/blasted_squaring12.cnf', '/home/samplingfm/Benchmarks/V7/s953a_7_4.cnf', '/home/samplingfm/Benchmarks/Blasted_Real/blasted_squaring1.cnf', '/home/samplingfm/Benchmarks/Blasted_Real/blasted_squaring4.cnf', '/home/samplingfm/Benchmarks/Blasted_Real/blasted_case47.cnf', '/home/samplingfm/Benchmarks/V7/s526a_7_4.cnf', '/home/samplingfm/Benchmarks/Blasted_Real/blasted_squaring9.cnf', '/home/samplingfm/Benchmarks/V3/s349_3_2.cnf', '/home/samplingfm/Benchmarks/V15/s510_15_7.cnf', '/home/samplingfm/Benchmarks/V3/s420_new1_3_2.cnf', '/home/samplingfm/Benchmarks/Blasted_Real/blasted_case_0_b11_1.cnf', '/home/samplingfm/Benchmarks/V15/s820a_15_7.cnf', '/home/samplingfm/Benchmarks/Blasted_Real/blasted_squaring6.cnf', '/home/samplingfm/Benchmarks/V3/s953a_3_2.cnf', '/home/samplingfm/Benchmarks/V15/s953a_15_7.cnf', '/home/samplingfm/Benchmarks/V15/s526_15_7.cnf', '/home/samplingfm/Benchmarks/V3/s420_new_3_2.cnf', '/home/samplingfm/Benchmarks/Blasted_Real/blasted_case35.cnf', '/home/samplingfm/Benchmarks/Blasted_Real/blasted_squaring26.cnf', '/home/samplingfm/Benchmarks/Blasted_Real/blasted_squaring2.cnf', '/home/samplingfm/Benchmarks/Blasted_Real/blasted_case114.cnf', '/home/samplingfm/Benchmarks/Blasted_Real/blasted_case55.cnf', '/home/samplingfm/Benchmarks/Blasted_Real/blasted_case34.cnf', '/home/samplingfm/Benchmarks/Blasted_Real/blasted_case205.cnf', '/home/samplingfm/Benchmarks/V7/s344_7_4.cnf', '/home/samplingfm/Benchmarks/Blasted_Real/blasted_case109.cnf', '/home/samplingfm/Benchmarks/V3/s526a_3_2.cnf', '/home/samplingfm/Benchmarks/V15/s444_15_7.cnf', '/home/samplingfm/Benchmarks/Blasted_Real/blasted_squaring20.cnf', '/home/samplingfm/Benchmarks/Blasted_Real/blasted_case116.cnf', '/home/samplingfm/Benchmarks/V7/s420_new1_7_4.cnf', '/home/samplingfm/Benchmarks/Blasted_Real/blasted_case5.cnf', '/home/samplingfm/Benchmarks/Blasted_Real/blasted_case9.cnf', '/home/samplingfm/Benchmarks/Blasted_Real/blasted_case_1_b12_2.cnf', '/home/samplingfm/Benchmarks/Blasted_Real/blasted_case8.cnf', '/home/samplingfm/Benchmarks/Blasted_Real/blasted_squaring28.cnf', '/home/samplingfm/Benchmarks/Blasted_Real/blasted_case_1_b11_1.cnf', '/home/samplingfm/Benchmarks/Blasted_Real/blasted_case_3_b14_1.cnf', '/home/samplingfm/Benchmarks/Blasted_Real/blasted_case123.cnf', '/home/samplingfm/Benchmarks/Blasted_Real/blasted_case106.cnf', '/home/samplingfm/Benchmarks/Blasted_Real/blasted_case57.cnf', '/home/samplingfm/Benchmarks/Blasted_Real/blasted_case_3_b14_3.cnf', '/home/samplingfm/Benchmarks/Blasted_Real/blasted_case201.cnf', '/home/samplingfm/Benchmarks/V3/s1238a_3_2.cnf', '/home/samplingfm/Benchmarks/Blasted_Real/blasted_squaring27.cnf', '/home/samplingfm/Benchmarks/V3/s510_3_2.cnf', '/home/samplingfm/Benchmarks/Blasted_Real/blasted_case126.cnf', '/home/samplingfm/Benchmarks/V7/s420_new_7_4.cnf', '/home/samplingfm/Benchmarks/Blasted_Real/blasted_case_2_b12_2.cnf', '/home/samplingfm/Benchmarks/Blasted_Real/blasted_squaring21.cnf', '/home/samplingfm/Benchmarks/Blasted_Real/blasted_case_0_b12_1.cnf', '/home/samplingfm/Benchmarks/V7/s820a_7_4.cnf', '/home/samplingfm/Benchmarks/Blasted_Real/blasted_squaring51.cnf', '/home/samplingfm/Benchmarks/V7/s382_7_4.cnf', '/home/samplingfm/Benchmarks/V3/s344_3_2.cnf', '/home/samplingfm/Benchmarks/Blasted_Real/blasted_case133.cnf', '/home/samplingfm/Benchmarks/V7/s510_7_4.cnf', '/home/samplingfm/Benchmarks/Blasted_Real/blasted_case101.cnf', '/home/samplingfm/Benchmarks/Blasted_Real/blasted_case120.cnf', '/home/samplingfm/Benchmarks/Blasted_Real/blasted_squaring22.cnf', '/home/samplingfm/Benchmarks/Blasted_Real/blasted_case2.cnf', '/home/samplingfm/Benchmarks/Blasted_Real/blasted_case_2_b12_1.cnf', '/home/samplingfm/Benchmarks/Blasted_Real/blasted_squaring14.cnf', '/home/samplingfm/Benchmarks/Blasted_Real/blasted_case202.cnf', '/home/samplingfm/Benchmarks/Blasted_Real/blasted_squaring5.cnf', '/home/samplingfm/Benchmarks/Blasted_Real/blasted_case14.cnf', '/home/samplingfm/Benchmarks/Blasted_Real/blasted_case_1_b14_1.cnf', '/home/samplingfm/Benchmarks/V15/s420_new_15_7.cnf', '/home/samplingfm/Benchmarks/Blasted_Real/blasted_case203.cnf', '/home/samplingfm/Benchmarks/V7/s444_7_4.cnf', '/home/samplingfm/Benchmarks/Blasted_Real/blasted_case3.cnf', '/home/samplingfm/Benchmarks/Blasted_Real/blasted_squaring10.cnf', '/home/samplingfm/Benchmarks/Blasted_Real/blasted_case135.cnf', '/home/samplingfm/Benchmarks/V7/s526_7_4.cnf', '/home/samplingfm/Benchmarks/V3/s526_3_2.cnf', '/home/samplingfm/Benchmarks/V15/s349_15_7.cnf', '/home/samplingfm/Benchmarks/Blasted_Real/blasted_case54.cnf', '/home/samplingfm/Benchmarks/V15/s1238a_15_7.cnf', '/home/samplingfm/Benchmarks/Blasted_Real/blasted_squaring30.cnf', '/home/samplingfm/Benchmarks/Blasted_Real/blasted_squaring25.cnf', '/home/samplingfm/Benchmarks/Blasted_Real/blasted_squaring7.cnf', '/home/samplingfm/Benchmarks/Blasted_Real/blasted_case_2_b14_3.cnf', '/home/samplingfm/Benchmarks/V15/s1196a_15_7.cnf', '/home/samplingfm/Benchmarks/Blasted_Real/blasted_case_1_b12_1.cnf', '/home/samplingfm/Benchmarks/V15/s344_15_7.cnf', '/home/samplingfm/Benchmarks/Blasted_Real/blasted_case_2_b14_2.cnf', '/home/samplingfm/Benchmarks/Blasted_Real/blasted_case105.cnf', '/home/samplingfm/Benchmarks/V7/s420_7_4.cnf', '/home/samplingfm/Benchmarks/Blasted_Real/blasted_case122.cnf', '/home/samplingfm/Benchmarks/Blasted_Real/blasted_squaring16.cnf', '/home/samplingfm/Benchmarks/Blasted_Real/blasted_case61.cnf', '/home/samplingfm/Benchmarks/Blasted_Real/blasted_case_0_b12_2.cnf', '/home/samplingfm/Benchmarks/V15/s420_new1_15_7.cnf', '/home/samplingfm/Benchmarks/Blasted_Real/blasted_case111.cnf', '/home/samplingfm/Benchmarks/Blasted_Real/blasted_case143.cnf', '/home/samplingfm/Benchmarks/Blasted_Real/blasted_case204.cnf', '/home/samplingfm/Benchmarks/V3/s420_3_2.cnf', '/home/samplingfm/Benchmarks/Blasted_Real/blasted_squaring50.cnf', '/home/samplingfm/Benchmarks/Blasted_Real/blasted_squaring3.cnf', '/home/samplingfm/Benchmarks/Blasted_Real/blasted_case115.cnf', '/home/samplingfm/Benchmarks/Blasted_Real/blasted_case132.cnf', '/home/samplingfm/Benchmarks/Blasted_Real/blasted_squaring8.cnf', '/home/samplingfm/Benchmarks/Blasted_Real/blasted_squaring11.cnf', '/home/samplingfm/Benchmarks/Blasted_Real/blasted_case_1_b14_2.cnf', '/home/samplingfm/Benchmarks/V3/s382_3_2.cnf', '/home/samplingfm/Benchmarks/V3/s444_3_2.cnf', '/home/samplingfm/Benchmarks/Blasted_Real/blasted_case145.cnf', '/home/samplingfm/Benchmarks/Blasted_Real/blasted_case131.cnf', '/home/samplingfm/Benchmarks/V7/s1238a_7_4.cnf', '/home/samplingfm/Benchmarks/Blasted_Real/blasted_squaring23.cnf', '/home/samplingfm/Benchmarks/Blasted_Real/blasted_case121.cnf', '/home/samplingfm/Benchmarks/Blasted_Real/blasted_case56.cnf', '/home/samplingfm/Benchmarks/Blasted_Real/blasted_case124.cnf', '/home/samplingfm/Benchmarks/Blasted_Real/blasted_case_3_b14_2.cnf', '/home/samplingfm/Benchmarks/Blasted_Real/blasted_case119.cnf', '/home/samplingfm/Benchmarks/V3/s1196a_3_2.cnf', '/home/samplingfm/Benchmarks/V7/s832a_7_4.cnf', '/home/samplingfm/Benchmarks/V7/s349_7_4.cnf', '/home/samplingfm/Benchmarks/Blasted_Real/blasted_case146.cnf', '/home/samplingfm/Benchmarks/V7/s1196a_7_4.cnf', '/home/samplingfm/Benchmarks/Blasted_Real/blasted_case62.cnf', '/home/samplingfm/Benchmarks/Blasted_Real/blasted_case_1_b14_3.cnf', '/home/samplingfm/Benchmarks/Blasted_Real/blasted_case6.cnf', '/home/samplingfm/Benchmarks/V15/s832a_15_7.cnf', '/home/samplingfm/Benchmarks/Blasted_Real/blasted_squaring29.cnf', '/home/samplingfm/Benchmarks/Blasted_Real/blasted_case100.cnf', '/home/samplingfm/Benchmarks/Blasted_Real/blasted_case136.cnf', '/home/samplingfm/Benchmarks/Blasted_Real/blasted_case_2_b14_1.cnf', '/home/samplingfm/Benchmarks/V15/s382_15_7.cnf', '/home/samplingfm/Benchmarks/Blasted_Real/blasted_case125.cnf', '/home/samplingfm/Benchmarks/V15/s526a_15_7.cnf', '/home/samplingfm/Benchmarks/FeatureModels/am31_sim.cnf', '/home/samplingfm/Benchmarks/FeatureModels/aki3068net.cnf', '/home/samplingfm/Benchmarks/FeatureModels/se7751.cnf', '/home/samplingfm/Benchmarks/FeatureModels/h8s_sim.cnf', '/home/samplingfm/Benchmarks/FeatureModels/stb.cnf', '/home/samplingfm/Benchmarks/FeatureModels/skmb91302.cnf', '/home/samplingfm/Benchmarks/FeatureModels/snds.cnf', '/home/samplingfm/Benchmarks/FeatureModels/ref4955.cnf', '/home/samplingfm/Benchmarks/FeatureModels/ebsa285.cnf', '/home/samplingfm/Benchmarks/FeatureModels/sleb.cnf', '/home/samplingfm/Benchmarks/FeatureModels/sparc_leon.cnf', '/home/samplingfm/Benchmarks/FeatureModels/iq80321.cnf', '/home/samplingfm/Benchmarks/FeatureModels/mb93093.cnf', '/home/samplingfm/Benchmarks/FeatureModels/csb281.cnf', '/home/samplingfm/Benchmarks/FeatureModels/lpcmt.cnf', '/home/samplingfm/Benchmarks/FeatureModels/cma230.cnf', '/home/samplingfm/Benchmarks/FeatureModels/jmr3904.cnf', '/home/samplingfm/Benchmarks/FeatureModels/cq7750.cnf', '/home/samplingfm/Benchmarks/FeatureModels/mcb2100.cnf', '/home/samplingfm/Benchmarks/FeatureModels/pc_usb_d12.cnf', '/home/samplingfm/Benchmarks/FeatureModels/smdk2410.cnf', '/home/samplingfm/Benchmarks/FeatureModels/vrc4375.cnf', '/home/samplingfm/Benchmarks/FeatureModels/calm32_ceb.cnf', '/home/samplingfm/Benchmarks/FeatureModels/sam7ex256.cnf', '/home/samplingfm/Benchmarks/FeatureModels/prpmc1100.cnf', '/home/samplingfm/Benchmarks/FeatureModels/malta_mips32_4kc.cnf', '/home/samplingfm/Benchmarks/FeatureModels/olpch2294.cnf', '/home/samplingfm/Benchmarks/FeatureModels/stm3210e_eval.cnf', '/home/samplingfm/Benchmarks/FeatureModels/pc_rltk8139.cnf', '/home/samplingfm/Benchmarks/FeatureModels/pc_vmWare.cnf', '/home/samplingfm/Benchmarks/FeatureModels/asb.cnf', '/home/samplingfm/Benchmarks/FeatureModels/mbx.cnf', '/home/samplingfm/Benchmarks/FeatureModels/ocelot.cnf', '/home/samplingfm/Benchmarks/FeatureModels/stdeval1.cnf', '/home/samplingfm/Benchmarks/FeatureModels/grg.cnf', '/home/samplingfm/Benchmarks/FeatureModels/cma28x.cnf', '/home/samplingfm/Benchmarks/FeatureModels/assabet.cnf', '/home/samplingfm/Benchmarks/FeatureModels/psim.cnf', '/home/samplingfm/Benchmarks/FeatureModels/malta_mips64_5kc.cnf', '/home/samplingfm/Benchmarks/FeatureModels/gps4020.cnf', '/home/samplingfm/Benchmarks/FeatureModels/at91sam7xek.cnf', '/home/samplingfm/Benchmarks/FeatureModels/pc_i82544.cnf', '/home/samplingfm/Benchmarks/FeatureModels/integrator_arm7.cnf', '/home/samplingfm/Benchmarks/FeatureModels/h8max.cnf', '/home/samplingfm/Benchmarks/FeatureModels/atlas_mips32_4kc.cnf', '/home/samplingfm/Benchmarks/FeatureModels/h8300h_sim.cnf', '/home/samplingfm/Benchmarks/FeatureModels/refidt334.cnf', '/home/samplingfm/Benchmarks/FeatureModels/adder.cnf', '/home/samplingfm/Benchmarks/FeatureModels/npwr.cnf', '/home/samplingfm/Benchmarks/FeatureModels/tx39_sim.cnf', '/home/samplingfm/Benchmarks/FeatureModels/sh4_202_md.cnf', '/home/samplingfm/Benchmarks/FeatureModels/adderII.cnf', '/home/samplingfm/Benchmarks/FeatureModels/hs7729pci.cnf', '/home/samplingfm/Benchmarks/FeatureModels/nano.cnf', '/home/samplingfm/Benchmarks/FeatureModels/picasso.cnf', '/home/samplingfm/Benchmarks/FeatureModels/mpc50.cnf', '/home/samplingfm/Benchmarks/FeatureModels/vads.cnf', '/home/samplingfm/Benchmarks/FeatureModels/olpcl2294.cnf', '/home/samplingfm/Benchmarks/FeatureModels/ts1000.cnf', '/home/samplingfm/Benchmarks/FeatureModels/integrator_arm9.cnf', '/home/samplingfm/Benchmarks/FeatureModels/pati.cnf', '/home/samplingfm/Benchmarks/FeatureModels/dreamcast.cnf', '/home/samplingfm/Benchmarks/FeatureModels/sa1100mm.cnf', '/home/samplingfm/Benchmarks/FeatureModels/se77x9.cnf', '/home/samplingfm/Benchmarks/FeatureModels/sparclite_sim.cnf', '/home/samplingfm/Benchmarks/FeatureModels/sh7708.cnf', '/home/samplingfm/Benchmarks/FeatureModels/eb40.cnf', '/home/samplingfm/Benchmarks/FeatureModels/pid.cnf', '/home/samplingfm/Benchmarks/FeatureModels/at91sam7sek.cnf', '/home/samplingfm/Benchmarks/FeatureModels/frv400.cnf', '/home/samplingfm/Benchmarks/FeatureModels/ea2468.cnf', '/home/samplingfm/Benchmarks/FeatureModels/rattler.cnf', '/home/samplingfm/Benchmarks/FeatureModels/excalibur_arm9.cnf', '/home/samplingfm/Benchmarks/FeatureModels/eb40a.cnf', '/home/samplingfm/Benchmarks/FeatureModels/aaed2000.cnf', '/home/samplingfm/Benchmarks/FeatureModels/phycore.cnf', '/home/samplingfm/Benchmarks/FeatureModels/asb2305.cnf', '/home/samplingfm/Benchmarks/FeatureModels/FM-3.6.1-refined.cnf', '/home/samplingfm/Benchmarks/FeatureModels/cme555.cnf', '/home/samplingfm/Benchmarks/FeatureModels/aim711.cnf', '/home/samplingfm/Benchmarks/FeatureModels/mb93091.cnf', '/home/samplingfm/Benchmarks/FeatureModels/jtst.cnf', '/home/samplingfm/Benchmarks/FeatureModels/innovator.cnf', '/home/samplingfm/Benchmarks/FeatureModels/atlas_mips64_5kc.cnf', '/home/samplingfm/Benchmarks/FeatureModels/e7t.cnf', '/home/samplingfm/Benchmarks/FeatureModels/cq7708.cnf', '/home/samplingfm/Benchmarks/FeatureModels/uE250.cnf', '/home/samplingfm/Benchmarks/FeatureModels/m5272c3.cnf', '/home/samplingfm/Benchmarks/FeatureModels/fads.cnf', '/home/samplingfm/Benchmarks/FeatureModels/phycore229x.cnf', '/home/samplingfm/Benchmarks/FeatureModels/sparc_erc32.cnf', '/home/samplingfm/Benchmarks/FeatureModels/XSEngine.cnf', '/home/samplingfm/Benchmarks/FeatureModels/edosk2674.cnf', '/home/samplingfm/Benchmarks/FeatureModels/linux.cnf', '/home/samplingfm/Benchmarks/FeatureModels/cerf.cnf', '/home/samplingfm/Benchmarks/FeatureModels/ceb_v850.cnf', '/home/samplingfm/Benchmarks/FeatureModels/calm16_ceb.cnf', '/home/samplingfm/Benchmarks/FeatureModels/olpce2294.cnf', '/home/samplingfm/Benchmarks/FeatureModels/ixdp425.cnf', '/home/samplingfm/Benchmarks/FeatureModels/eb55.cnf', '/home/samplingfm/Benchmarks/FeatureModels/flexanet.cnf', '/home/samplingfm/Benchmarks/FeatureModels/brutus.cnf', '/home/samplingfm/Benchmarks/FeatureModels/viper.cnf', '/home/samplingfm/Benchmarks/FeatureModels/ec555.cnf', '/home/samplingfm/Benchmarks/FeatureModels/mace1.cnf', '/home/samplingfm/Benchmarks/FeatureModels/iq80310.cnf', '/home/samplingfm/Benchmarks/FeatureModels/pc_i82559.cnf', '/home/samplingfm/Benchmarks/FeatureModels/cerfpda.cnf', '/home/samplingfm/Benchmarks/FeatureModels/p2106.cnf', '/home/samplingfm/Benchmarks/FeatureModels/mac7100evb.cnf', '/home/samplingfm/Benchmarks/FeatureModels/vrc4373.cnf', '/home/samplingfm/Benchmarks/FeatureModels/aeb.cnf', '/home/samplingfm/Benchmarks/FeatureModels/ipaq.cnf', '/home/samplingfm/Benchmarks/FeatureModels/eb42.cnf', '/home/samplingfm/Benchmarks/FeatureModels/moab.cnf', '/home/samplingfm/Benchmarks/FeatureModels/ts6.cnf', '/home/samplingfm/Benchmarks/FeatureModels/edb7xxx.cnf', '/home/samplingfm/Benchmarks/FMEasy/freebsd-icse11.cnf', '/home/samplingfm/Benchmarks/FMEasy/2.6.33.3-2var.cnf', '/home/samplingfm/Benchmarks/FMEasy/buildroot.cnf', '/home/samplingfm/Benchmarks/FMEasy/uClinux.cnf', '/home/samplingfm/Benchmarks/FMEasy/axTLS.cnf', '/home/samplingfm/Benchmarks/FMEasy/fiasco.cnf', '/home/samplingfm/Benchmarks/FMEasy/freetz.cnf', '/home/samplingfm/Benchmarks/FMEasy/ecos-icse11.cnf', '/home/samplingfm/Benchmarks/FMEasy/toybox2.cnf', '/home/samplingfm/Benchmarks/FMEasy/busybox-1.18.0.cnf', '/home/samplingfm/Benchmarks/FMEasy/toybox.cnf', '/home/samplingfm/Benchmarks/FMEasy/uClinux-config.cnf', '/home/samplingfm/Benchmarks/FMEasy/2.6.28.6-icse11.cnf', '/home/samplingfm/Benchmarks/FMEasy/coreboot.cnf', '/home/samplingfm/Benchmarks/FMEasy/embtoolkit.cnf', '/home/samplingfm/Benchmarks/FMEasy/2.6.32-2var.cnf']\n",
    "set([x for x in flas_to_process if flas_to_process.count(x) > 1]), len(flas_to_process), len(set(flas_to_process))"
   ]
  },
  {
   "cell_type": "code",
   "execution_count": 4,
   "metadata": {},
   "outputs": [
    {
     "data": {
      "text/plain": [
       "{'/home/samplingfm/Benchmarks/Blasted_Real/blasted_case123.cnf'}"
      ]
     },
     "execution_count": 4,
     "metadata": {},
     "output_type": "execute_result"
    }
   ],
   "source": [
    "def formulas_unprocessed(sampler_name):\n",
    "    df = get_df(sampler_name)\n",
    "    return set(flas_to_process) - set(df['formula_file'].values)\n",
    "\n",
    "formulas_unprocessed(\"DBS\") # , formulas_unprocessed(\"Unigen2\")"
   ]
  },
  {
   "cell_type": "code",
   "execution_count": 5,
   "metadata": {},
   "outputs": [
    {
     "data": {
      "text/plain": [
       "{'/home/samplingfm/Benchmarks/Blasted_Real/blasted_case123.cnf'}"
      ]
     },
     "execution_count": 5,
     "metadata": {},
     "output_type": "execute_result"
    }
   ],
   "source": [
    "set(get_df(\"KUS\")['formula_file'].values) - set(get_df(\"DBS\")['formula_file'].values)"
   ]
  },
  {
   "cell_type": "code",
   "execution_count": 6,
   "metadata": {},
   "outputs": [
    {
     "data": {
      "text/html": [
       "<div>\n",
       "<style scoped>\n",
       "    .dataframe tbody tr th:only-of-type {\n",
       "        vertical-align: middle;\n",
       "    }\n",
       "\n",
       "    .dataframe tbody tr th {\n",
       "        vertical-align: top;\n",
       "    }\n",
       "\n",
       "    .dataframe thead th {\n",
       "        text-align: right;\n",
       "    }\n",
       "</style>\n",
       "<table border=\"1\" class=\"dataframe\">\n",
       "  <thead>\n",
       "    <tr style=\"text-align: right;\">\n",
       "      <th></th>\n",
       "      <th>formula_file</th>\n",
       "      <th>timeout</th>\n",
       "      <th>execution_time_in</th>\n",
       "      <th>dnnf_time</th>\n",
       "      <th>sampling_time</th>\n",
       "      <th>model_count</th>\n",
       "      <th>counting_time</th>\n",
       "      <th>dnnfparsing_time</th>\n",
       "    </tr>\n",
       "  </thead>\n",
       "  <tbody>\n",
       "    <tr>\n",
       "      <th>0</th>\n",
       "      <td>/home/samplingfm/Benchmarks/V15/s420_15_7.cnf</td>\n",
       "      <td>False</td>\n",
       "      <td>1.054739</td>\n",
       "      <td>0.546572</td>\n",
       "      <td>0.010749</td>\n",
       "      <td>8589934592</td>\n",
       "      <td>0.128141</td>\n",
       "      <td>0.087723</td>\n",
       "    </tr>\n",
       "    <tr>\n",
       "      <th>1</th>\n",
       "      <td>/home/samplingfm/Benchmarks/Blasted_Real/blast...</td>\n",
       "      <td>True</td>\n",
       "      <td>180.000000</td>\n",
       "      <td>NaN</td>\n",
       "      <td>NaN</td>\n",
       "      <td>NaN</td>\n",
       "      <td>NaN</td>\n",
       "      <td>NaN</td>\n",
       "    </tr>\n",
       "    <tr>\n",
       "      <th>2</th>\n",
       "      <td>/home/samplingfm/Benchmarks/Blasted_Real/blast...</td>\n",
       "      <td>True</td>\n",
       "      <td>180.000000</td>\n",
       "      <td>NaN</td>\n",
       "      <td>NaN</td>\n",
       "      <td>NaN</td>\n",
       "      <td>NaN</td>\n",
       "      <td>NaN</td>\n",
       "    </tr>\n",
       "    <tr>\n",
       "      <th>3</th>\n",
       "      <td>/home/samplingfm/Benchmarks/V7/s953a_7_4.cnf</td>\n",
       "      <td>False</td>\n",
       "      <td>1.575533</td>\n",
       "      <td>0.573591</td>\n",
       "      <td>0.016620</td>\n",
       "      <td>9517647527936</td>\n",
       "      <td>0.507906</td>\n",
       "      <td>0.260411</td>\n",
       "    </tr>\n",
       "    <tr>\n",
       "      <th>4</th>\n",
       "      <td>/home/samplingfm/Benchmarks/Blasted_Real/blast...</td>\n",
       "      <td>True</td>\n",
       "      <td>180.000000</td>\n",
       "      <td>NaN</td>\n",
       "      <td>NaN</td>\n",
       "      <td>NaN</td>\n",
       "      <td>NaN</td>\n",
       "      <td>NaN</td>\n",
       "    </tr>\n",
       "  </tbody>\n",
       "</table>\n",
       "</div>"
      ],
      "text/plain": [
       "                                        formula_file  timeout  \\\n",
       "0      /home/samplingfm/Benchmarks/V15/s420_15_7.cnf    False   \n",
       "1  /home/samplingfm/Benchmarks/Blasted_Real/blast...     True   \n",
       "2  /home/samplingfm/Benchmarks/Blasted_Real/blast...     True   \n",
       "3       /home/samplingfm/Benchmarks/V7/s953a_7_4.cnf    False   \n",
       "4  /home/samplingfm/Benchmarks/Blasted_Real/blast...     True   \n",
       "\n",
       "   execution_time_in  dnnf_time  sampling_time    model_count  counting_time  \\\n",
       "0           1.054739   0.546572       0.010749     8589934592       0.128141   \n",
       "1         180.000000        NaN            NaN            NaN            NaN   \n",
       "2         180.000000        NaN            NaN            NaN            NaN   \n",
       "3           1.575533   0.573591       0.016620  9517647527936       0.507906   \n",
       "4         180.000000        NaN            NaN            NaN            NaN   \n",
       "\n",
       "   dnnfparsing_time  \n",
       "0          0.087723  \n",
       "1               NaN  \n",
       "2               NaN  \n",
       "3          0.260411  \n",
       "4               NaN  "
      ]
     },
     "execution_count": 6,
     "metadata": {},
     "output_type": "execute_result"
    }
   ],
   "source": [
    "pd.read_csv('../usampling-data/results-timeout180-IGRIDA/experiments-' + \"KUS\" + '.csv').head()"
   ]
  },
  {
   "cell_type": "code",
   "execution_count": 11,
   "metadata": {},
   "outputs": [
    {
     "name": "stdout",
     "output_type": "stream",
     "text": [
      "for DBS the following formulas are timeout and shoud be processed again\n",
      "17 ['/home/samplingfm/Benchmarks/Blasted_Real/blasted_case9.cnf', '/home/samplingfm/Benchmarks/Blasted_Real/blasted_case106.cnf', '/home/samplingfm/Benchmarks/Blasted_Real/blasted_case14.cnf', '/home/samplingfm/Benchmarks/Blasted_Real/blasted_case61.cnf', '/home/samplingfm/Benchmarks/FMEasy/coreboot.cnf', '/home/samplingfm/Benchmarks/FMEasy/2.6.32-2var.cnf', '/home/samplingfm/Benchmarks/FMEasy/2.6.33.3-2var.cnf', '/home/samplingfm/Benchmarks/FMEasy/embtoolkit.cnf', '/home/samplingfm/Benchmarks/FMEasy/freetz.cnf', '/home/samplingfm/Benchmarks/FMEasy/buildroot.cnf', '/home/samplingfm/Benchmarks/FMEasy/2.6.28.6-icse11.cnf', '/home/samplingfm/Benchmarks/FMEasy/uClinux.cnf', '/home/samplingfm/Benchmarks/FMEasy/busybox-1.18.0.cnf', '/home/samplingfm/Benchmarks/FMEasy/uClinux-config.cnf', '/home/samplingfm/Benchmarks/FMEasy/toybox2.cnf', '/home/samplingfm/Benchmarks/FMEasy/toybox.cnf', '/home/samplingfm/Benchmarks/Blasted_Real/blasted_case123.cnf']\n",
      "for Unigen2 the following formulas are timeout and shoud be processed again\n",
      "135 ['/home/samplingfm/Benchmarks/Blasted_Real/blasted_case9.cnf', '/home/samplingfm/Benchmarks/Blasted_Real/blasted_case133.cnf', '/home/samplingfm/Benchmarks/Blasted_Real/blasted_case136.cnf', '/home/samplingfm/Benchmarks/FeatureModels/XSEngine.cnf', '/home/samplingfm/Benchmarks/FeatureModels/viper.cnf', '/home/samplingfm/Benchmarks/FeatureModels/phycore.cnf', '/home/samplingfm/Benchmarks/FeatureModels/cq7708.cnf', '/home/samplingfm/Benchmarks/FeatureModels/psim.cnf', '/home/samplingfm/Benchmarks/FeatureModels/aeb.cnf', '/home/samplingfm/Benchmarks/FeatureModels/sh7708.cnf', '/home/samplingfm/Benchmarks/FeatureModels/vrc4375.cnf', '/home/samplingfm/Benchmarks/FeatureModels/malta_mips32_4kc.cnf', '/home/samplingfm/Benchmarks/FeatureModels/rattler.cnf', '/home/samplingfm/Benchmarks/FeatureModels/asb2305.cnf', '/home/samplingfm/Benchmarks/FeatureModels/pc_usb_d12.cnf', '/home/samplingfm/Benchmarks/FeatureModels/vads.cnf', '/home/samplingfm/Benchmarks/FeatureModels/calm32_ceb.cnf', '/home/samplingfm/Benchmarks/FeatureModels/se77x9.cnf', '/home/samplingfm/Benchmarks/FeatureModels/se7751.cnf', '/home/samplingfm/Benchmarks/FeatureModels/mb93093.cnf', '/home/samplingfm/Benchmarks/FeatureModels/sparc_erc32.cnf', '/home/samplingfm/Benchmarks/FeatureModels/lpcmt.cnf', '/home/samplingfm/Benchmarks/FeatureModels/vrc4373.cnf', '/home/samplingfm/Benchmarks/FeatureModels/integrator_arm7.cnf', '/home/samplingfm/Benchmarks/FeatureModels/eb55.cnf', '/home/samplingfm/Benchmarks/FeatureModels/ec555.cnf', '/home/samplingfm/Benchmarks/FeatureModels/sh4_202_md.cnf', '/home/samplingfm/Benchmarks/FeatureModels/mb93091.cnf', '/home/samplingfm/Benchmarks/FeatureModels/atlas_mips64_5kc.cnf', '/home/samplingfm/Benchmarks/FeatureModels/eb42.cnf', '/home/samplingfm/Benchmarks/FeatureModels/ea2468.cnf', '/home/samplingfm/Benchmarks/FeatureModels/cma230.cnf', '/home/samplingfm/Benchmarks/FeatureModels/sparc_leon.cnf', '/home/samplingfm/Benchmarks/FeatureModels/olpch2294.cnf', '/home/samplingfm/Benchmarks/FeatureModels/dreamcast.cnf', '/home/samplingfm/Benchmarks/FeatureModels/excalibur_arm9.cnf', '/home/samplingfm/Benchmarks/FeatureModels/frv400.cnf', '/home/samplingfm/Benchmarks/FeatureModels/ipaq.cnf', '/home/samplingfm/Benchmarks/FeatureModels/nano.cnf', '/home/samplingfm/Benchmarks/FeatureModels/stm3210e_eval.cnf', '/home/samplingfm/Benchmarks/FeatureModels/aki3068net.cnf', '/home/samplingfm/Benchmarks/FeatureModels/integrator_arm9.cnf', '/home/samplingfm/Benchmarks/FeatureModels/mac7100evb.cnf', '/home/samplingfm/Benchmarks/FeatureModels/p2106.cnf', '/home/samplingfm/Benchmarks/FeatureModels/prpmc1100.cnf', '/home/samplingfm/Benchmarks/FeatureModels/sparclite_sim.cnf', '/home/samplingfm/Benchmarks/FeatureModels/edb7xxx.cnf', '/home/samplingfm/Benchmarks/FeatureModels/eb40.cnf', '/home/samplingfm/Benchmarks/FeatureModels/stb.cnf', '/home/samplingfm/Benchmarks/FeatureModels/h8300h_sim.cnf', '/home/samplingfm/Benchmarks/FeatureModels/skmb91302.cnf', '/home/samplingfm/Benchmarks/FeatureModels/ixdp425.cnf', '/home/samplingfm/Benchmarks/FeatureModels/grg.cnf', '/home/samplingfm/Benchmarks/FeatureModels/h8s_sim.cnf', '/home/samplingfm/Benchmarks/FeatureModels/eb40a.cnf', '/home/samplingfm/Benchmarks/FeatureModels/sleb.cnf', '/home/samplingfm/Benchmarks/FeatureModels/jmr3904.cnf', '/home/samplingfm/Benchmarks/FeatureModels/jtst.cnf', '/home/samplingfm/Benchmarks/FeatureModels/pc_i82559.cnf', '/home/samplingfm/Benchmarks/FeatureModels/cq7750.cnf', '/home/samplingfm/Benchmarks/FeatureModels/mace1.cnf', '/home/samplingfm/Benchmarks/FeatureModels/ref4955.cnf', '/home/samplingfm/Benchmarks/FeatureModels/m5272c3.cnf', '/home/samplingfm/Benchmarks/FeatureModels/gps4020.cnf', '/home/samplingfm/Benchmarks/FeatureModels/mbx.cnf', '/home/samplingfm/Benchmarks/FeatureModels/atlas_mips32_4kc.cnf', '/home/samplingfm/Benchmarks/FeatureModels/ts1000.cnf', '/home/samplingfm/Benchmarks/FeatureModels/at91sam7sek.cnf', '/home/samplingfm/Benchmarks/FeatureModels/sam7ex256.cnf', '/home/samplingfm/Benchmarks/FeatureModels/phycore229x.cnf', '/home/samplingfm/Benchmarks/FeatureModels/flexanet.cnf', '/home/samplingfm/Benchmarks/FeatureModels/mcb2100.cnf', '/home/samplingfm/Benchmarks/FeatureModels/innovator.cnf', '/home/samplingfm/Benchmarks/FeatureModels/ocelot.cnf', '/home/samplingfm/Benchmarks/FeatureModels/malta_mips64_5kc.cnf', '/home/samplingfm/Benchmarks/FeatureModels/ts6.cnf', '/home/samplingfm/Benchmarks/FeatureModels/cma28x.cnf', '/home/samplingfm/Benchmarks/FeatureModels/aim711.cnf', '/home/samplingfm/Benchmarks/FeatureModels/ebsa285.cnf', '/home/samplingfm/Benchmarks/FeatureModels/aaed2000.cnf', '/home/samplingfm/Benchmarks/FeatureModels/picasso.cnf', '/home/samplingfm/Benchmarks/FeatureModels/olpcl2294.cnf', '/home/samplingfm/Benchmarks/FeatureModels/pati.cnf', '/home/samplingfm/Benchmarks/FeatureModels/pc_i82544.cnf', '/home/samplingfm/Benchmarks/FeatureModels/e7t.cnf', '/home/samplingfm/Benchmarks/FeatureModels/olpce2294.cnf', '/home/samplingfm/Benchmarks/FeatureModels/am31_sim.cnf', '/home/samplingfm/Benchmarks/FeatureModels/stdeval1.cnf', '/home/samplingfm/Benchmarks/FeatureModels/pc_rltk8139.cnf', '/home/samplingfm/Benchmarks/FeatureModels/adder.cnf', '/home/samplingfm/Benchmarks/FeatureModels/cme555.cnf', '/home/samplingfm/Benchmarks/FeatureModels/refidt334.cnf', '/home/samplingfm/Benchmarks/FeatureModels/calm16_ceb.cnf', '/home/samplingfm/Benchmarks/FeatureModels/pid.cnf', '/home/samplingfm/Benchmarks/FeatureModels/asb.cnf', '/home/samplingfm/Benchmarks/FeatureModels/iq80310.cnf', '/home/samplingfm/Benchmarks/FeatureModels/fads.cnf', '/home/samplingfm/Benchmarks/FeatureModels/adderII.cnf', '/home/samplingfm/Benchmarks/FeatureModels/cerf.cnf', '/home/samplingfm/Benchmarks/FeatureModels/assabet.cnf', '/home/samplingfm/Benchmarks/FeatureModels/iq80321.cnf', '/home/samplingfm/Benchmarks/FeatureModels/tx39_sim.cnf', '/home/samplingfm/Benchmarks/FeatureModels/sa1100mm.cnf', '/home/samplingfm/Benchmarks/FeatureModels/npwr.cnf', '/home/samplingfm/Benchmarks/FeatureModels/brutus.cnf', '/home/samplingfm/Benchmarks/FeatureModels/cerfpda.cnf', '/home/samplingfm/Benchmarks/FeatureModels/ceb_v850.cnf', '/home/samplingfm/Benchmarks/FeatureModels/mpc50.cnf', '/home/samplingfm/Benchmarks/FeatureModels/at91sam7xek.cnf', '/home/samplingfm/Benchmarks/FeatureModels/edosk2674.cnf', '/home/samplingfm/Benchmarks/FeatureModels/pc_vmWare.cnf', '/home/samplingfm/Benchmarks/FeatureModels/csb281.cnf', '/home/samplingfm/Benchmarks/FeatureModels/uE250.cnf', '/home/samplingfm/Benchmarks/FeatureModels/moab.cnf', '/home/samplingfm/Benchmarks/FeatureModels/h8max.cnf', '/home/samplingfm/Benchmarks/FeatureModels/smdk2410.cnf', '/home/samplingfm/Benchmarks/FeatureModels/snds.cnf', '/home/samplingfm/Benchmarks/FeatureModels/linux.cnf', '/home/samplingfm/Benchmarks/FeatureModels/hs7729pci.cnf', '/home/samplingfm/Benchmarks/FMEasy/coreboot.cnf', '/home/samplingfm/Benchmarks/FMEasy/2.6.32-2var.cnf', '/home/samplingfm/Benchmarks/FMEasy/freebsd-icse11.cnf', '/home/samplingfm/Benchmarks/FMEasy/2.6.33.3-2var.cnf', '/home/samplingfm/Benchmarks/FMEasy/embtoolkit.cnf', '/home/samplingfm/Benchmarks/FMEasy/freetz.cnf', '/home/samplingfm/Benchmarks/FMEasy/fiasco.cnf', '/home/samplingfm/Benchmarks/FMEasy/buildroot.cnf', '/home/samplingfm/Benchmarks/FMEasy/2.6.28.6-icse11.cnf', '/home/samplingfm/Benchmarks/FMEasy/uClinux.cnf', '/home/samplingfm/Benchmarks/FMEasy/busybox-1.18.0.cnf', '/home/samplingfm/Benchmarks/FMEasy/axTLS.cnf', '/home/samplingfm/Benchmarks/FMEasy/ecos-icse11.cnf', '/home/samplingfm/Benchmarks/FMEasy/uClinux-config.cnf', '/home/samplingfm/Benchmarks/FMEasy/toybox2.cnf', '/home/samplingfm/Benchmarks/FMEasy/toybox.cnf']\n",
      "for Unigen3 the following formulas are timeout and shoud be processed again\n",
      "127 ['/home/samplingfm/Benchmarks/FeatureModels/XSEngine.cnf', '/home/samplingfm/Benchmarks/FeatureModels/viper.cnf', '/home/samplingfm/Benchmarks/FeatureModels/phycore.cnf', '/home/samplingfm/Benchmarks/FeatureModels/cq7708.cnf', '/home/samplingfm/Benchmarks/FeatureModels/psim.cnf', '/home/samplingfm/Benchmarks/FeatureModels/aeb.cnf', '/home/samplingfm/Benchmarks/FeatureModels/sh7708.cnf', '/home/samplingfm/Benchmarks/FeatureModels/vrc4375.cnf', '/home/samplingfm/Benchmarks/FeatureModels/malta_mips32_4kc.cnf', '/home/samplingfm/Benchmarks/FeatureModels/rattler.cnf', '/home/samplingfm/Benchmarks/FeatureModels/asb2305.cnf', '/home/samplingfm/Benchmarks/FeatureModels/pc_usb_d12.cnf', '/home/samplingfm/Benchmarks/FeatureModels/vads.cnf', '/home/samplingfm/Benchmarks/FeatureModels/calm32_ceb.cnf', '/home/samplingfm/Benchmarks/FeatureModels/se77x9.cnf', '/home/samplingfm/Benchmarks/FeatureModels/se7751.cnf', '/home/samplingfm/Benchmarks/FeatureModels/mb93093.cnf', '/home/samplingfm/Benchmarks/FeatureModels/sparc_erc32.cnf', '/home/samplingfm/Benchmarks/FeatureModels/lpcmt.cnf', '/home/samplingfm/Benchmarks/FeatureModels/vrc4373.cnf', '/home/samplingfm/Benchmarks/FeatureModels/integrator_arm7.cnf', '/home/samplingfm/Benchmarks/FeatureModels/eb55.cnf', '/home/samplingfm/Benchmarks/FeatureModels/ec555.cnf', '/home/samplingfm/Benchmarks/FeatureModels/sh4_202_md.cnf', '/home/samplingfm/Benchmarks/FeatureModels/mb93091.cnf', '/home/samplingfm/Benchmarks/FeatureModels/atlas_mips64_5kc.cnf', '/home/samplingfm/Benchmarks/FeatureModels/eb42.cnf', '/home/samplingfm/Benchmarks/FeatureModels/ea2468.cnf', '/home/samplingfm/Benchmarks/FeatureModels/cma230.cnf', '/home/samplingfm/Benchmarks/FeatureModels/sparc_leon.cnf', '/home/samplingfm/Benchmarks/FeatureModels/olpch2294.cnf', '/home/samplingfm/Benchmarks/FeatureModels/dreamcast.cnf', '/home/samplingfm/Benchmarks/FeatureModels/excalibur_arm9.cnf', '/home/samplingfm/Benchmarks/FeatureModels/frv400.cnf', '/home/samplingfm/Benchmarks/FeatureModels/ipaq.cnf', '/home/samplingfm/Benchmarks/FeatureModels/nano.cnf', '/home/samplingfm/Benchmarks/FeatureModels/stm3210e_eval.cnf', '/home/samplingfm/Benchmarks/FeatureModels/aki3068net.cnf', '/home/samplingfm/Benchmarks/FeatureModels/integrator_arm9.cnf', '/home/samplingfm/Benchmarks/FeatureModels/mac7100evb.cnf', '/home/samplingfm/Benchmarks/FeatureModels/p2106.cnf', '/home/samplingfm/Benchmarks/FeatureModels/prpmc1100.cnf', '/home/samplingfm/Benchmarks/FeatureModels/sparclite_sim.cnf', '/home/samplingfm/Benchmarks/FeatureModels/edb7xxx.cnf', '/home/samplingfm/Benchmarks/FeatureModels/eb40.cnf', '/home/samplingfm/Benchmarks/FeatureModels/stb.cnf', '/home/samplingfm/Benchmarks/FeatureModels/h8300h_sim.cnf', '/home/samplingfm/Benchmarks/FeatureModels/skmb91302.cnf', '/home/samplingfm/Benchmarks/FeatureModels/ixdp425.cnf', '/home/samplingfm/Benchmarks/FeatureModels/grg.cnf', '/home/samplingfm/Benchmarks/FeatureModels/h8s_sim.cnf', '/home/samplingfm/Benchmarks/FeatureModels/eb40a.cnf', '/home/samplingfm/Benchmarks/FeatureModels/sleb.cnf', '/home/samplingfm/Benchmarks/FeatureModels/jmr3904.cnf', '/home/samplingfm/Benchmarks/FeatureModels/jtst.cnf', '/home/samplingfm/Benchmarks/FeatureModels/pc_i82559.cnf', '/home/samplingfm/Benchmarks/FeatureModels/cq7750.cnf', '/home/samplingfm/Benchmarks/FeatureModels/mace1.cnf', '/home/samplingfm/Benchmarks/FeatureModels/ref4955.cnf', '/home/samplingfm/Benchmarks/FeatureModels/m5272c3.cnf', '/home/samplingfm/Benchmarks/FeatureModels/gps4020.cnf', '/home/samplingfm/Benchmarks/FeatureModels/mbx.cnf', '/home/samplingfm/Benchmarks/FeatureModels/atlas_mips32_4kc.cnf', '/home/samplingfm/Benchmarks/FeatureModels/ts1000.cnf', '/home/samplingfm/Benchmarks/FeatureModels/at91sam7sek.cnf', '/home/samplingfm/Benchmarks/FeatureModels/sam7ex256.cnf', '/home/samplingfm/Benchmarks/FeatureModels/phycore229x.cnf', '/home/samplingfm/Benchmarks/FeatureModels/flexanet.cnf', '/home/samplingfm/Benchmarks/FeatureModels/mcb2100.cnf', '/home/samplingfm/Benchmarks/FeatureModels/innovator.cnf', '/home/samplingfm/Benchmarks/FeatureModels/ocelot.cnf', '/home/samplingfm/Benchmarks/FeatureModels/malta_mips64_5kc.cnf', '/home/samplingfm/Benchmarks/FeatureModels/ts6.cnf', '/home/samplingfm/Benchmarks/FeatureModels/cma28x.cnf', '/home/samplingfm/Benchmarks/FeatureModels/aim711.cnf', '/home/samplingfm/Benchmarks/FeatureModels/ebsa285.cnf', '/home/samplingfm/Benchmarks/FeatureModels/aaed2000.cnf', '/home/samplingfm/Benchmarks/FeatureModels/picasso.cnf', '/home/samplingfm/Benchmarks/FeatureModels/olpcl2294.cnf', '/home/samplingfm/Benchmarks/FeatureModels/pati.cnf', '/home/samplingfm/Benchmarks/FeatureModels/pc_i82544.cnf', '/home/samplingfm/Benchmarks/FeatureModels/e7t.cnf', '/home/samplingfm/Benchmarks/FeatureModels/olpce2294.cnf', '/home/samplingfm/Benchmarks/FeatureModels/am31_sim.cnf', '/home/samplingfm/Benchmarks/FeatureModels/stdeval1.cnf', '/home/samplingfm/Benchmarks/FeatureModels/pc_rltk8139.cnf', '/home/samplingfm/Benchmarks/FeatureModels/adder.cnf', '/home/samplingfm/Benchmarks/FeatureModels/cme555.cnf', '/home/samplingfm/Benchmarks/FeatureModels/refidt334.cnf', '/home/samplingfm/Benchmarks/FeatureModels/calm16_ceb.cnf', '/home/samplingfm/Benchmarks/FeatureModels/pid.cnf', '/home/samplingfm/Benchmarks/FeatureModels/asb.cnf', '/home/samplingfm/Benchmarks/FeatureModels/iq80310.cnf', '/home/samplingfm/Benchmarks/FeatureModels/fads.cnf', '/home/samplingfm/Benchmarks/FeatureModels/adderII.cnf', '/home/samplingfm/Benchmarks/FeatureModels/cerf.cnf', '/home/samplingfm/Benchmarks/FeatureModels/assabet.cnf', '/home/samplingfm/Benchmarks/FeatureModels/iq80321.cnf', '/home/samplingfm/Benchmarks/FeatureModels/tx39_sim.cnf', '/home/samplingfm/Benchmarks/FeatureModels/sa1100mm.cnf', '/home/samplingfm/Benchmarks/FeatureModels/npwr.cnf', '/home/samplingfm/Benchmarks/FeatureModels/brutus.cnf', '/home/samplingfm/Benchmarks/FeatureModels/cerfpda.cnf', '/home/samplingfm/Benchmarks/FeatureModels/ceb_v850.cnf', '/home/samplingfm/Benchmarks/FeatureModels/mpc50.cnf', '/home/samplingfm/Benchmarks/FeatureModels/at91sam7xek.cnf', '/home/samplingfm/Benchmarks/FeatureModels/edosk2674.cnf', '/home/samplingfm/Benchmarks/FeatureModels/pc_vmWare.cnf', '/home/samplingfm/Benchmarks/FeatureModels/csb281.cnf', '/home/samplingfm/Benchmarks/FeatureModels/uE250.cnf', '/home/samplingfm/Benchmarks/FeatureModels/moab.cnf', '/home/samplingfm/Benchmarks/FeatureModels/h8max.cnf', '/home/samplingfm/Benchmarks/FeatureModels/smdk2410.cnf', '/home/samplingfm/Benchmarks/FeatureModels/snds.cnf', '/home/samplingfm/Benchmarks/FeatureModels/linux.cnf', '/home/samplingfm/Benchmarks/FeatureModels/hs7729pci.cnf', '/home/samplingfm/Benchmarks/FMEasy/coreboot.cnf', '/home/samplingfm/Benchmarks/FMEasy/2.6.32-2var.cnf', '/home/samplingfm/Benchmarks/FMEasy/freebsd-icse11.cnf', '/home/samplingfm/Benchmarks/FMEasy/2.6.33.3-2var.cnf', '/home/samplingfm/Benchmarks/FMEasy/embtoolkit.cnf', '/home/samplingfm/Benchmarks/FMEasy/freetz.cnf', '/home/samplingfm/Benchmarks/FMEasy/buildroot.cnf', '/home/samplingfm/Benchmarks/FMEasy/2.6.28.6-icse11.cnf', '/home/samplingfm/Benchmarks/FMEasy/busybox-1.18.0.cnf', '/home/samplingfm/Benchmarks/FMEasy/ecos-icse11.cnf', '/home/samplingfm/Benchmarks/FMEasy/uClinux-config.cnf']\n",
      "for KUS the following formulas are timeout and shoud be processed again\n",
      "39 ['/home/samplingfm/Benchmarks/Blasted_Real/blasted_squaring24.cnf', '/home/samplingfm/Benchmarks/Blasted_Real/blasted_squaring12.cnf', '/home/samplingfm/Benchmarks/Blasted_Real/blasted_squaring1.cnf', '/home/samplingfm/Benchmarks/Blasted_Real/blasted_squaring4.cnf', '/home/samplingfm/Benchmarks/Blasted_Real/blasted_squaring9.cnf', '/home/samplingfm/Benchmarks/Blasted_Real/blasted_squaring6.cnf', '/home/samplingfm/Benchmarks/Blasted_Real/blasted_squaring2.cnf', '/home/samplingfm/Benchmarks/Blasted_Real/blasted_squaring28.cnf', '/home/samplingfm/Benchmarks/Blasted_Real/blasted_squaring21.cnf', '/home/samplingfm/Benchmarks/Blasted_Real/blasted_squaring22.cnf', '/home/samplingfm/Benchmarks/Blasted_Real/blasted_squaring14.cnf', '/home/samplingfm/Benchmarks/Blasted_Real/blasted_squaring5.cnf', '/home/samplingfm/Benchmarks/Blasted_Real/blasted_squaring10.cnf', '/home/samplingfm/Benchmarks/Blasted_Real/blasted_squaring7.cnf', '/home/samplingfm/Benchmarks/Blasted_Real/blasted_squaring16.cnf', '/home/samplingfm/Benchmarks/Blasted_Real/blasted_squaring3.cnf', '/home/samplingfm/Benchmarks/Blasted_Real/blasted_squaring8.cnf', '/home/samplingfm/Benchmarks/Blasted_Real/blasted_squaring11.cnf', '/home/samplingfm/Benchmarks/FeatureModels/phycore.cnf', '/home/samplingfm/Benchmarks/FeatureModels/vrc4375.cnf', '/home/samplingfm/Benchmarks/FeatureModels/pc_usb_d12.cnf', '/home/samplingfm/Benchmarks/FeatureModels/se77x9.cnf', '/home/samplingfm/Benchmarks/FeatureModels/integrator_arm9.cnf', '/home/samplingfm/Benchmarks/FeatureModels/mbx.cnf', '/home/samplingfm/Benchmarks/FeatureModels/sam7ex256.cnf', '/home/samplingfm/Benchmarks/FeatureModels/pc_i82544.cnf', '/home/samplingfm/Benchmarks/FeatureModels/olpce2294.cnf', '/home/samplingfm/Benchmarks/FeatureModels/pc_rltk8139.cnf', '/home/samplingfm/Benchmarks/FeatureModels/adderII.cnf', '/home/samplingfm/Benchmarks/FeatureModels/npwr.cnf', '/home/samplingfm/Benchmarks/FeatureModels/moab.cnf', '/home/samplingfm/Benchmarks/FMEasy/coreboot.cnf', '/home/samplingfm/Benchmarks/FMEasy/2.6.32-2var.cnf', '/home/samplingfm/Benchmarks/FMEasy/freebsd-icse11.cnf', '/home/samplingfm/Benchmarks/FMEasy/2.6.33.3-2var.cnf', '/home/samplingfm/Benchmarks/FMEasy/embtoolkit.cnf', '/home/samplingfm/Benchmarks/FMEasy/freetz.cnf', '/home/samplingfm/Benchmarks/FMEasy/buildroot.cnf', '/home/samplingfm/Benchmarks/FMEasy/2.6.28.6-icse11.cnf']\n",
      "for SMARCH the following formulas are timeout and shoud be processed again\n",
      "121 ['/home/samplingfm/Benchmarks/FeatureModels/XSEngine.cnf', '/home/samplingfm/Benchmarks/FeatureModels/viper.cnf', '/home/samplingfm/Benchmarks/FeatureModels/phycore.cnf', '/home/samplingfm/Benchmarks/FeatureModels/cq7708.cnf', '/home/samplingfm/Benchmarks/FeatureModels/psim.cnf', '/home/samplingfm/Benchmarks/FeatureModels/aeb.cnf', '/home/samplingfm/Benchmarks/FeatureModels/sh7708.cnf', '/home/samplingfm/Benchmarks/FeatureModels/vrc4375.cnf', '/home/samplingfm/Benchmarks/FeatureModels/malta_mips32_4kc.cnf', '/home/samplingfm/Benchmarks/FeatureModels/rattler.cnf', '/home/samplingfm/Benchmarks/FeatureModels/asb2305.cnf', '/home/samplingfm/Benchmarks/FeatureModels/pc_usb_d12.cnf', '/home/samplingfm/Benchmarks/FeatureModels/vads.cnf', '/home/samplingfm/Benchmarks/FeatureModels/calm32_ceb.cnf', '/home/samplingfm/Benchmarks/FeatureModels/se77x9.cnf', '/home/samplingfm/Benchmarks/FeatureModels/se7751.cnf', '/home/samplingfm/Benchmarks/FeatureModels/mb93093.cnf', '/home/samplingfm/Benchmarks/FeatureModels/sparc_erc32.cnf', '/home/samplingfm/Benchmarks/FeatureModels/lpcmt.cnf', '/home/samplingfm/Benchmarks/FeatureModels/vrc4373.cnf', '/home/samplingfm/Benchmarks/FeatureModels/integrator_arm7.cnf', '/home/samplingfm/Benchmarks/FeatureModels/eb55.cnf', '/home/samplingfm/Benchmarks/FeatureModels/ec555.cnf', '/home/samplingfm/Benchmarks/FeatureModels/sh4_202_md.cnf', '/home/samplingfm/Benchmarks/FeatureModels/mb93091.cnf', '/home/samplingfm/Benchmarks/FeatureModels/atlas_mips64_5kc.cnf', '/home/samplingfm/Benchmarks/FeatureModels/eb42.cnf', '/home/samplingfm/Benchmarks/FeatureModels/ea2468.cnf', '/home/samplingfm/Benchmarks/FeatureModels/cma230.cnf', '/home/samplingfm/Benchmarks/FeatureModels/sparc_leon.cnf', '/home/samplingfm/Benchmarks/FeatureModels/olpch2294.cnf', '/home/samplingfm/Benchmarks/FeatureModels/dreamcast.cnf', '/home/samplingfm/Benchmarks/FeatureModels/excalibur_arm9.cnf', '/home/samplingfm/Benchmarks/FeatureModels/frv400.cnf', '/home/samplingfm/Benchmarks/FeatureModels/ipaq.cnf', '/home/samplingfm/Benchmarks/FeatureModels/nano.cnf', '/home/samplingfm/Benchmarks/FeatureModels/stm3210e_eval.cnf', '/home/samplingfm/Benchmarks/FeatureModels/aki3068net.cnf', '/home/samplingfm/Benchmarks/FeatureModels/integrator_arm9.cnf', '/home/samplingfm/Benchmarks/FeatureModels/mac7100evb.cnf', '/home/samplingfm/Benchmarks/FeatureModels/p2106.cnf', '/home/samplingfm/Benchmarks/FeatureModels/prpmc1100.cnf', '/home/samplingfm/Benchmarks/FeatureModels/sparclite_sim.cnf', '/home/samplingfm/Benchmarks/FeatureModels/edb7xxx.cnf', '/home/samplingfm/Benchmarks/FeatureModels/eb40.cnf', '/home/samplingfm/Benchmarks/FeatureModels/stb.cnf', '/home/samplingfm/Benchmarks/FeatureModels/h8300h_sim.cnf', '/home/samplingfm/Benchmarks/FeatureModels/skmb91302.cnf', '/home/samplingfm/Benchmarks/FeatureModels/ixdp425.cnf', '/home/samplingfm/Benchmarks/FeatureModels/grg.cnf', '/home/samplingfm/Benchmarks/FeatureModels/h8s_sim.cnf', '/home/samplingfm/Benchmarks/FeatureModels/eb40a.cnf', '/home/samplingfm/Benchmarks/FeatureModels/sleb.cnf', '/home/samplingfm/Benchmarks/FeatureModels/jmr3904.cnf', '/home/samplingfm/Benchmarks/FeatureModels/jtst.cnf', '/home/samplingfm/Benchmarks/FeatureModels/pc_i82559.cnf', '/home/samplingfm/Benchmarks/FeatureModels/cq7750.cnf', '/home/samplingfm/Benchmarks/FeatureModels/mace1.cnf', '/home/samplingfm/Benchmarks/FeatureModels/ref4955.cnf', '/home/samplingfm/Benchmarks/FeatureModels/m5272c3.cnf', '/home/samplingfm/Benchmarks/FeatureModels/gps4020.cnf', '/home/samplingfm/Benchmarks/FeatureModels/mbx.cnf', '/home/samplingfm/Benchmarks/FeatureModels/atlas_mips32_4kc.cnf', '/home/samplingfm/Benchmarks/FeatureModels/ts1000.cnf', '/home/samplingfm/Benchmarks/FeatureModels/at91sam7sek.cnf', '/home/samplingfm/Benchmarks/FeatureModels/sam7ex256.cnf', '/home/samplingfm/Benchmarks/FeatureModels/phycore229x.cnf', '/home/samplingfm/Benchmarks/FeatureModels/flexanet.cnf', '/home/samplingfm/Benchmarks/FeatureModels/mcb2100.cnf', '/home/samplingfm/Benchmarks/FeatureModels/innovator.cnf', '/home/samplingfm/Benchmarks/FeatureModels/ocelot.cnf', '/home/samplingfm/Benchmarks/FeatureModels/malta_mips64_5kc.cnf', '/home/samplingfm/Benchmarks/FeatureModels/ts6.cnf', '/home/samplingfm/Benchmarks/FeatureModels/cma28x.cnf', '/home/samplingfm/Benchmarks/FeatureModels/aim711.cnf', '/home/samplingfm/Benchmarks/FeatureModels/ebsa285.cnf', '/home/samplingfm/Benchmarks/FeatureModels/aaed2000.cnf', '/home/samplingfm/Benchmarks/FeatureModels/picasso.cnf', '/home/samplingfm/Benchmarks/FeatureModels/olpcl2294.cnf', '/home/samplingfm/Benchmarks/FeatureModels/pati.cnf', '/home/samplingfm/Benchmarks/FeatureModels/pc_i82544.cnf', '/home/samplingfm/Benchmarks/FeatureModels/e7t.cnf', '/home/samplingfm/Benchmarks/FeatureModels/olpce2294.cnf', '/home/samplingfm/Benchmarks/FeatureModels/am31_sim.cnf', '/home/samplingfm/Benchmarks/FeatureModels/stdeval1.cnf', '/home/samplingfm/Benchmarks/FeatureModels/pc_rltk8139.cnf', '/home/samplingfm/Benchmarks/FeatureModels/adder.cnf', '/home/samplingfm/Benchmarks/FeatureModels/cme555.cnf', '/home/samplingfm/Benchmarks/FeatureModels/refidt334.cnf', '/home/samplingfm/Benchmarks/FeatureModels/calm16_ceb.cnf', '/home/samplingfm/Benchmarks/FeatureModels/pid.cnf', '/home/samplingfm/Benchmarks/FeatureModels/asb.cnf', '/home/samplingfm/Benchmarks/FeatureModels/iq80310.cnf', '/home/samplingfm/Benchmarks/FeatureModels/fads.cnf', '/home/samplingfm/Benchmarks/FeatureModels/adderII.cnf', '/home/samplingfm/Benchmarks/FeatureModels/cerf.cnf', '/home/samplingfm/Benchmarks/FeatureModels/assabet.cnf', '/home/samplingfm/Benchmarks/FeatureModels/iq80321.cnf', '/home/samplingfm/Benchmarks/FeatureModels/tx39_sim.cnf', '/home/samplingfm/Benchmarks/FeatureModels/sa1100mm.cnf', '/home/samplingfm/Benchmarks/FeatureModels/npwr.cnf', '/home/samplingfm/Benchmarks/FeatureModels/brutus.cnf', '/home/samplingfm/Benchmarks/FeatureModels/cerfpda.cnf', '/home/samplingfm/Benchmarks/FeatureModels/ceb_v850.cnf', '/home/samplingfm/Benchmarks/FeatureModels/mpc50.cnf', '/home/samplingfm/Benchmarks/FeatureModels/at91sam7xek.cnf', '/home/samplingfm/Benchmarks/FeatureModels/edosk2674.cnf', '/home/samplingfm/Benchmarks/FeatureModels/pc_vmWare.cnf', '/home/samplingfm/Benchmarks/FeatureModels/csb281.cnf', '/home/samplingfm/Benchmarks/FeatureModels/uE250.cnf', '/home/samplingfm/Benchmarks/FeatureModels/moab.cnf', '/home/samplingfm/Benchmarks/FeatureModels/h8max.cnf', '/home/samplingfm/Benchmarks/FeatureModels/smdk2410.cnf', '/home/samplingfm/Benchmarks/FeatureModels/snds.cnf', '/home/samplingfm/Benchmarks/FeatureModels/linux.cnf', '/home/samplingfm/Benchmarks/FeatureModels/hs7729pci.cnf', '/home/samplingfm/Benchmarks/FMEasy/freebsd-icse11.cnf', '/home/samplingfm/Benchmarks/FMEasy/embtoolkit.cnf', '/home/samplingfm/Benchmarks/FMEasy/busybox-1.18.0.cnf', '/home/samplingfm/Benchmarks/FMEasy/ecos-icse11.cnf', '/home/samplingfm/Benchmarks/FMEasy/uClinux-config.cnf']\n",
      "for SPUR the following formulas are timeout and shoud be processed again\n",
      "2 ['/home/samplingfm/Benchmarks/FMEasy/2.6.32-2var.cnf', '/home/samplingfm/Benchmarks/FMEasy/2.6.33.3-2var.cnf']\n"
     ]
    }
   ],
   "source": [
    "TARGET_IGRIDA_SCRIPT = 'usampling-reprocess'\n",
    "def write_IGRIDA_sript(sampler_name, flas_toprocess_again, timeout=300):\n",
    "    str_flas = ' '.join(flas_toprocess_again)\n",
    "    with open(TARGET_IGRIDA_SCRIPT + \"/\" + sampler_name + \".sh\", \"w\") as oarf:\n",
    "        oarf.write('''#!/bin/bash\n",
    "#OAR -l nodes=1/thread=16,walltime=24:00:00 \n",
    "#OAR -p virt='YES' AND cluster='armada'\n",
    "#OAR -O /temp_dd/igrida-fs1/macher/usampling/oar_output/job.%jobid%.output\n",
    "#OAR -E /temp_dd/igrida-fs1/macher/usampling/oar_output/job.%jobid%.error\n",
    "\n",
    ". /etc/profile.d/modules.sh\n",
    "\n",
    "set -x\n",
    "\n",
    "module load spack/gvirt\n",
    "\n",
    "VM_NAME=vm-${OAR_JOBID}\n",
    "\n",
    "gvirt start ${VM_NAME} --image /srv/tempdd/macher/usampling/docker-alpine-usampling.qcow2\n",
    "\n",
    "VM_WAIT_DOCKER=\"until [ -S /var/run/docker.sock ]; do sleep 1; done\"\n",
    "\n",
    "''')\n",
    "        \n",
    "        oarf.write('BENCH=\"{}\"'.format(str_flas))\n",
    "        oarf.write('\\n')\n",
    "        oarf.write('VM_CMD=\"docker run -v /mnt/srv/tempdd/macher/usampling-exp/:/home/usampling-exp:z macher/usampling:squashed /bin/bash -c \\'cd /home/usampling-exp/; echo STARTING; python3 usampling-experiments.py --{} -t {} -flas $BENCH; echo END\\'\"'.format(sampler_name.lower(), str(timeout)))\n",
    "        oarf.write('''\n",
    "gvirt exec $VM_NAME \"$VM_WAIT_DOCKER\"\n",
    "gvirt exec $VM_NAME \"$VM_CMD\"\n",
    "''')\n",
    "        # '.format(sampler_name, str_flas))\n",
    "    \n",
    "    \n",
    "    \n",
    "for sampler_name in sampler_names:\n",
    "    df = get_df(sampler_name)\n",
    "    if (sampler_name == \"SMARCH\"):\n",
    "        df = df.query('timeout_reached == True')\n",
    "    else:\n",
    "        df = df.query('timeout == True')\n",
    "    print(\"for\", sampler_name, \"the following formulas are timeout and shoud be processed again\")\n",
    "    flas_toprocess_again = list(df['formula_file'].values)\n",
    "    if sampler_name == \"DBS\":\n",
    "        if \"/home/samplingfm/Benchmarks/Blasted_Real/blasted_case123.cnf\" not in flas_toprocess_again: # issue #7\n",
    "            flas_toprocess_again.append(\"/home/samplingfm/Benchmarks/Blasted_Real/blasted_case123.cnf\")\n",
    "    print(len(flas_toprocess_again), flas_toprocess_again)\n",
    "    \n",
    "    write_IGRIDA_sript(sampler_name, flas_toprocess_again, timeout=int(((24*3600) - 300) / len(flas_toprocess_again)))"
   ]
  },
  {
   "cell_type": "code",
   "execution_count": 8,
   "metadata": {},
   "outputs": [
    {
     "data": {
      "text/plain": [
       "8640.0"
      ]
     },
     "execution_count": 8,
     "metadata": {},
     "output_type": "execute_result"
    }
   ],
   "source": [
    "(12*3600) / 5 # 12 hours, 5 formulas to reprocess, so a budget of... per formula (some warumps to substract)"
   ]
  },
  {
   "cell_type": "code",
   "execution_count": null,
   "metadata": {},
   "outputs": [],
   "source": []
  }
 ],
 "metadata": {
  "kernelspec": {
   "display_name": "Python 3",
   "language": "python",
   "name": "python3"
  },
  "language_info": {
   "codemirror_mode": {
    "name": "ipython",
    "version": 3
   },
   "file_extension": ".py",
   "mimetype": "text/x-python",
   "name": "python",
   "nbconvert_exporter": "python",
   "pygments_lexer": "ipython3",
   "version": "3.7.6"
  }
 },
 "nbformat": 4,
 "nbformat_minor": 2
}
