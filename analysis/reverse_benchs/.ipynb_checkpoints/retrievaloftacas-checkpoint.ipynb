{
 "cells": [
  {
   "cell_type": "code",
   "execution_count": 37,
   "metadata": {},
   "outputs": [
    {
     "data": {
      "text/plain": [
       "(235, 235)"
      ]
     },
     "execution_count": 37,
     "metadata": {},
     "output_type": "execute_result"
    }
   ],
   "source": [
    "import pandas as pd\n",
    "\n",
    "# df = pd.read_csv('benchmarksUnigen2.csv', header=None) # deprecated I miss one page\n",
    "df = pd.read_csv('TACAS15-appendix.csv', header=None)\n",
    "flas = []\n",
    "for v in df[0].values:\n",
    "    flas.append(v.replace(\" \", \"_\"))\n",
    "len(df), len(flas)"
   ]
  },
  {
   "cell_type": "code",
   "execution_count": 38,
   "metadata": {},
   "outputs": [
    {
     "data": {
      "text/plain": [
       "195"
      ]
     },
     "execution_count": 38,
     "metadata": {},
     "output_type": "execute_result"
    }
   ],
   "source": [
    "len(set(flas)) # some formulas are two times in the PDF appendix with same info!"
   ]
  },
  {
   "cell_type": "code",
   "execution_count": 39,
   "metadata": {},
   "outputs": [
    {
     "data": {
      "text/plain": [
       "{'case109',\n",
       " 'case119',\n",
       " 'case120',\n",
       " 'case121',\n",
       " 'case123',\n",
       " 'case126',\n",
       " 'case132',\n",
       " 'case135',\n",
       " 'case14',\n",
       " 'case145',\n",
       " 'case146',\n",
       " 'case2',\n",
       " 'case3',\n",
       " 'case57',\n",
       " 'case61',\n",
       " 'case62',\n",
       " 'case9',\n",
       " 'case_1_b14_1',\n",
       " 'case_1_b14_2',\n",
       " 'case_1_b14_3',\n",
       " 'case_2_b14_1',\n",
       " 'case_2_b14_2',\n",
       " 'case_2_b14_3',\n",
       " 'case_3_b14_1',\n",
       " 'case_3_b14_2',\n",
       " 'case_3_b14_3',\n",
       " 's344_15_7',\n",
       " 's349_15_7',\n",
       " 's349_7_4',\n",
       " 's382_3_2',\n",
       " 's382_7_4',\n",
       " 's420_3_2',\n",
       " 's420_7_4',\n",
       " 's420_new1_3_2',\n",
       " 's420_new1_7_4',\n",
       " 's420_new_3_2',\n",
       " 's420_new_7_4',\n",
       " 's444_3_2',\n",
       " 's444_7_4',\n",
       " 's510_3_2'}"
      ]
     },
     "execution_count": 39,
     "metadata": {},
     "output_type": "execute_result"
    }
   ],
   "source": [
    "set([x for x in flas if flas.count(x) > 1])"
   ]
  },
  {
   "cell_type": "code",
   "execution_count": 33,
   "metadata": {},
   "outputs": [
    {
     "data": {
      "text/plain": [
       "True"
      ]
     },
     "execution_count": 33,
     "metadata": {},
     "output_type": "execute_result"
    }
   ],
   "source": [
    "\"109_new\" in set(flas)\n",
    "\"s349_7_4\" in set(flas)\n",
    "\"case122\" in set(flas)\n",
    "\"s832a_15_7\" in set(flas)\n",
    "\"squaring7\" in set(flas)\n",
    "\"diagStencil_new\" in set(flas) # control the manual paste in the appendix"
   ]
  },
  {
   "cell_type": "code",
   "execution_count": 34,
   "metadata": {},
   "outputs": [
    {
     "name": "stdout",
     "output_type": "stream",
     "text": [
      "unfound 109_new\n",
      "unfound 32_new\n",
      "unfound 70_new\n",
      "unfound 29_new\n",
      "unfound 10_new\n",
      "unfound lltraversal_new\n",
      "unfound treemin_new\n",
      "unfound 19_new\n",
      "unfound tree_delete3_new\n",
      "unfound 77_new\n",
      "unfound isolateRightmost_new\n",
      "unfound GuidanceService2\n",
      "unfound tree_delete3\n",
      "unfound GuidanceService\n",
      "unfound llreverse_new\n",
      "unfound 79_new\n",
      "unfound IssueServiceImpl\n",
      "it's a digit 10\n",
      "it's a digit 27\n",
      "unfound PhaseService\n",
      "unfound 27_new\n",
      "unfound ActivityService\n",
      "unfound 55_new\n",
      "unfound IterationService\n",
      "unfound ActivityService2\n",
      "unfound aig_insertion1\n",
      "unfound ConcreteActivityService\n",
      "it's a digit 53\n",
      "unfound aig_insertion2\n",
      "it's a digit 55\n",
      "unfound ProjectService3\n",
      "unfound NotificationServiceImpl2\n",
      "it's a digit 51\n",
      "it's a digit 32\n",
      "it's a digit 70\n",
      "unfound ProcessBean\n",
      "it's a digit 56\n",
      "it's a digit 35\n",
      "it's a digit 80\n",
      "unfound tree_delete\n",
      "it's a digit 7\n",
      "unfound doublyLinkedList\n",
      "it's a digit 19\n",
      "unfound LoginService\n",
      "it's a digit 29\n",
      "it's a digit 17\n",
      "unfound parity_new\n",
      "it's a digit 81\n",
      "unfound LoginService2\n",
      "unfound Sort\n",
      "it's a digit 77\n",
      "it's a digit 20\n",
      "unfound enqueue\n",
      "unfound Karatsuba\n",
      "unfound lltraversal\n",
      "unfound LLReverse\n",
      "unfound diagStencil_new\n",
      "unfound demo4_new\n",
      "unfound tutorial3\n",
      "unfound demo2_new\n",
      "unfound demo3_new\n"
     ]
    }
   ],
   "source": [
    "final_flas = []\n",
    "with open(\"formulas_cnf_list.txt\", \"r\") as ffla: # all benchs we have\n",
    "    eflas = ffla.readlines()\n",
    "    for fla in flas: # can we retrieve Bench Unigen2 in our all benchs?\n",
    "        if len(fla) <= 2:\n",
    "            print(\"it's a digit\", fla)\n",
    "            continue\n",
    "        fla_found = False   \n",
    "        for efla in eflas:\n",
    "            if fla + \".cnf\" in efla:\n",
    "                if fla_found:\n",
    "                    print(\"found again\", fla, efla)\n",
    "                fla_found = True\n",
    "                final_flas.append(efla.replace('\\n', ''))\n",
    "                # break\n",
    "        if not fla_found:\n",
    "            print(\"unfound\", fla)"
   ]
  },
  {
   "cell_type": "code",
   "execution_count": 36,
   "metadata": {},
   "outputs": [
    {
     "data": {
      "text/plain": [
       "{'/home/samplingfm/Benchmarks/Blasted_Real/blasted_case109.cnf',\n",
       " '/home/samplingfm/Benchmarks/Blasted_Real/blasted_case119.cnf',\n",
       " '/home/samplingfm/Benchmarks/Blasted_Real/blasted_case120.cnf',\n",
       " '/home/samplingfm/Benchmarks/Blasted_Real/blasted_case121.cnf',\n",
       " '/home/samplingfm/Benchmarks/Blasted_Real/blasted_case123.cnf',\n",
       " '/home/samplingfm/Benchmarks/Blasted_Real/blasted_case126.cnf',\n",
       " '/home/samplingfm/Benchmarks/Blasted_Real/blasted_case132.cnf',\n",
       " '/home/samplingfm/Benchmarks/Blasted_Real/blasted_case135.cnf',\n",
       " '/home/samplingfm/Benchmarks/Blasted_Real/blasted_case14.cnf',\n",
       " '/home/samplingfm/Benchmarks/Blasted_Real/blasted_case145.cnf',\n",
       " '/home/samplingfm/Benchmarks/Blasted_Real/blasted_case146.cnf',\n",
       " '/home/samplingfm/Benchmarks/Blasted_Real/blasted_case2.cnf',\n",
       " '/home/samplingfm/Benchmarks/Blasted_Real/blasted_case3.cnf',\n",
       " '/home/samplingfm/Benchmarks/Blasted_Real/blasted_case57.cnf',\n",
       " '/home/samplingfm/Benchmarks/Blasted_Real/blasted_case61.cnf',\n",
       " '/home/samplingfm/Benchmarks/Blasted_Real/blasted_case62.cnf',\n",
       " '/home/samplingfm/Benchmarks/Blasted_Real/blasted_case9.cnf',\n",
       " '/home/samplingfm/Benchmarks/Blasted_Real/blasted_case_1_b14_1.cnf',\n",
       " '/home/samplingfm/Benchmarks/Blasted_Real/blasted_case_1_b14_2.cnf',\n",
       " '/home/samplingfm/Benchmarks/Blasted_Real/blasted_case_1_b14_3.cnf',\n",
       " '/home/samplingfm/Benchmarks/Blasted_Real/blasted_case_2_b14_1.cnf',\n",
       " '/home/samplingfm/Benchmarks/Blasted_Real/blasted_case_2_b14_2.cnf',\n",
       " '/home/samplingfm/Benchmarks/Blasted_Real/blasted_case_2_b14_3.cnf',\n",
       " '/home/samplingfm/Benchmarks/Blasted_Real/blasted_case_3_b14_1.cnf',\n",
       " '/home/samplingfm/Benchmarks/Blasted_Real/blasted_case_3_b14_2.cnf',\n",
       " '/home/samplingfm/Benchmarks/Blasted_Real/blasted_case_3_b14_3.cnf',\n",
       " '/home/samplingfm/Benchmarks/V15/s344_15_7.cnf',\n",
       " '/home/samplingfm/Benchmarks/V15/s349_15_7.cnf',\n",
       " '/home/samplingfm/Benchmarks/V3/s382_3_2.cnf',\n",
       " '/home/samplingfm/Benchmarks/V3/s420_3_2.cnf',\n",
       " '/home/samplingfm/Benchmarks/V3/s420_new1_3_2.cnf',\n",
       " '/home/samplingfm/Benchmarks/V3/s420_new_3_2.cnf',\n",
       " '/home/samplingfm/Benchmarks/V3/s444_3_2.cnf',\n",
       " '/home/samplingfm/Benchmarks/V3/s510_3_2.cnf',\n",
       " '/home/samplingfm/Benchmarks/V7/s349_7_4.cnf',\n",
       " '/home/samplingfm/Benchmarks/V7/s382_7_4.cnf',\n",
       " '/home/samplingfm/Benchmarks/V7/s420_7_4.cnf',\n",
       " '/home/samplingfm/Benchmarks/V7/s420_new1_7_4.cnf',\n",
       " '/home/samplingfm/Benchmarks/V7/s420_new_7_4.cnf',\n",
       " '/home/samplingfm/Benchmarks/V7/s444_7_4.cnf'}"
      ]
     },
     "execution_count": 36,
     "metadata": {},
     "output_type": "execute_result"
    }
   ],
   "source": [
    "len(final_flas), len(set(final_flas))\n",
    "set([x for x in final_flas if final_flas.count(x) > 1])"
   ]
  },
  {
   "cell_type": "code",
   "execution_count": 3,
   "metadata": {},
   "outputs": [
    {
     "name": "stdout",
     "output_type": "stream",
     "text": [
      "/home/samplingfm/Benchmarks/V7/s349_7_4.cnf /home/samplingfm/Benchmarks/Blasted_Real/blasted_case146.cnf /home/samplingfm/Benchmarks/Blasted_Real/blasted_case145.cnf /home/samplingfm/Benchmarks/Blasted_Real/blasted_case132.cnf /home/samplingfm/Benchmarks/Blasted_Real/blasted_case135.cnf /home/samplingfm/Benchmarks/Blasted_Real/blasted_case_1_b14_1.cnf /home/samplingfm/Benchmarks/Blasted_Real/blasted_case_2_b14_1.cnf /home/samplingfm/Benchmarks/Blasted_Real/blasted_case_3_b14_1.cnf /home/samplingfm/Benchmarks/Blasted_Real/blasted_case109.cnf /home/samplingfm/Benchmarks/Blasted_Real/blasted_case145.cnf /home/samplingfm/Benchmarks/V3/s382_3_2.cnf /home/samplingfm/Benchmarks/Blasted_Real/blasted_case123.cnf /home/samplingfm/Benchmarks/Blasted_Real/blasted_case119.cnf /home/samplingfm/Benchmarks/Blasted_Real/blasted_case_1_b14_2.cnf /home/samplingfm/Benchmarks/Blasted_Real/blasted_case_2_b14_2.cnf /home/samplingfm/Benchmarks/Blasted_Real/blasted_case_3_b14_2.cnf /home/samplingfm/Benchmarks/Blasted_Real/blasted_case9.cnf /home/samplingfm/Benchmarks/V7/s382_7_4.cnf /home/samplingfm/Benchmarks/Blasted_Real/blasted_case61.cnf /home/samplingfm/Benchmarks/V15/s344_15_7.cnf /home/samplingfm/Benchmarks/Blasted_Real/blasted_case120.cnf /home/samplingfm/Benchmarks/V15/s349_15_7.cnf /home/samplingfm/Benchmarks/Blasted_Real/blasted_case57.cnf /home/samplingfm/Benchmarks/V3/s444_3_2.cnf /home/samplingfm/Benchmarks/Blasted_Real/blasted_case121.cnf /home/samplingfm/Benchmarks/Blasted_Real/blasted_case62.cnf /home/samplingfm/Benchmarks/V3/s420_3_2.cnf /home/samplingfm/Benchmarks/V3/s420_new1_3_2.cnf /home/samplingfm/Benchmarks/V3/s420_new_3_2.cnf /home/samplingfm/Benchmarks/Blasted_Real/blasted_case33.cnf /home/samplingfm/Benchmarks/Blasted_Real/blasted_case202.cnf /home/samplingfm/Benchmarks/V3/s510_3_2.cnf /home/samplingfm/Benchmarks/Blasted_Real/blasted_case126.cnf /home/samplingfm/Benchmarks/Blasted_Real/blasted_case_1_b14_3.cnf /home/samplingfm/Benchmarks/Blasted_Real/blasted_case_2_b14_3.cnf /home/samplingfm/Benchmarks/Blasted_Real/blasted_case_3_b14_3.cnf /home/samplingfm/Benchmarks/V7/s444_7_4.cnf /home/samplingfm/Benchmarks/V7/s420_new1_7_4.cnf /home/samplingfm/Benchmarks/V7/s420_new_7_4.cnf /home/samplingfm/Benchmarks/V7/s420_7_4.cnf /home/samplingfm/Benchmarks/V7/s349_7_4.cnf /home/samplingfm/Benchmarks/Blasted_Real/blasted_case146.cnf /home/samplingfm/Benchmarks/Blasted_Real/blasted_case145.cnf /home/samplingfm/Benchmarks/Blasted_Real/blasted_case132.cnf /home/samplingfm/Benchmarks/Blasted_Real/blasted_case135.cnf /home/samplingfm/Benchmarks/Blasted_Real/blasted_case_1_b14_1.cnf /home/samplingfm/Benchmarks/Blasted_Real/blasted_case_2_b14_1.cnf /home/samplingfm/Benchmarks/Blasted_Real/blasted_case_3_b14_1.cnf /home/samplingfm/Benchmarks/Blasted_Real/blasted_case109.cnf /home/samplingfm/Benchmarks/Blasted_Real/blasted_case145.cnf /home/samplingfm/Benchmarks/V3/s382_3_2.cnf /home/samplingfm/Benchmarks/Blasted_Real/blasted_case123.cnf /home/samplingfm/Benchmarks/Blasted_Real/blasted_case119.cnf /home/samplingfm/Benchmarks/Blasted_Real/blasted_case_1_b14_2.cnf /home/samplingfm/Benchmarks/Blasted_Real/blasted_case_2_b14_2.cnf /home/samplingfm/Benchmarks/Blasted_Real/blasted_case_3_b14_2.cnf /home/samplingfm/Benchmarks/Blasted_Real/blasted_case9.cnf /home/samplingfm/Benchmarks/V7/s382_7_4.cnf /home/samplingfm/Benchmarks/Blasted_Real/blasted_case61.cnf /home/samplingfm/Benchmarks/V15/s344_15_7.cnf /home/samplingfm/Benchmarks/Blasted_Real/blasted_case120.cnf /home/samplingfm/Benchmarks/V15/s349_15_7.cnf /home/samplingfm/Benchmarks/Blasted_Real/blasted_case57.cnf /home/samplingfm/Benchmarks/V3/s444_3_2.cnf /home/samplingfm/Benchmarks/Blasted_Real/blasted_case121.cnf /home/samplingfm/Benchmarks/Blasted_Real/blasted_case62.cnf /home/samplingfm/Benchmarks/V3/s420_3_2.cnf /home/samplingfm/Benchmarks/V3/s420_new1_3_2.cnf /home/samplingfm/Benchmarks/V3/s420_new_3_2.cnf /home/samplingfm/Benchmarks/Blasted_Real/blasted_case33.cnf /home/samplingfm/Benchmarks/Blasted_Real/blasted_case202.cnf /home/samplingfm/Benchmarks/V3/s510_3_2.cnf /home/samplingfm/Benchmarks/Blasted_Real/blasted_case126.cnf /home/samplingfm/Benchmarks/Blasted_Real/blasted_case_1_b14_3.cnf /home/samplingfm/Benchmarks/Blasted_Real/blasted_case_2_b14_3.cnf /home/samplingfm/Benchmarks/Blasted_Real/blasted_case_3_b14_3.cnf /home/samplingfm/Benchmarks/V7/s444_7_4.cnf /home/samplingfm/Benchmarks/V7/s420_new1_7_4.cnf /home/samplingfm/Benchmarks/V7/s420_new_7_4.cnf /home/samplingfm/Benchmarks/V7/s420_7_4.cnf /home/samplingfm/Benchmarks/Blasted_Real/blasted_case122.cnf /home/samplingfm/Benchmarks/V7/s510_7_4.cnf /home/samplingfm/Benchmarks/Blasted_Real/blasted_case60.cnf /home/samplingfm/Benchmarks/Blasted_Real/blasted_case_0_b11_1.cnf /home/samplingfm/Benchmarks/Blasted_Real/blasted_case_1_b11_1.cnf /home/samplingfm/Benchmarks/V15/s510_15_7.cnf /home/samplingfm/Benchmarks/V15/s382_15_7.cnf /home/samplingfm/Benchmarks/V15/s420_new_15_7.cnf /home/samplingfm/Benchmarks/V3/s526_3_2.cnf /home/samplingfm/Benchmarks/V15/s420_15_7.cnf /home/samplingfm/Benchmarks/V15/s420_new1_15_7.cnf /home/samplingfm/Benchmarks/V3/s526a_3_2.cnf /home/samplingfm/Benchmarks/V15/s444_15_7.cnf /home/samplingfm/Benchmarks/V7/s526_7_4.cnf /home/samplingfm/Benchmarks/V7/s526a_7_4.cnf /home/samplingfm/Benchmarks/Blasted_Real/blasted_case125.cnf /home/samplingfm/Benchmarks/Blasted_Real/blasted_case35.cnf /home/samplingfm/Benchmarks/Blasted_Real/blasted_case34.cnf /home/samplingfm/Benchmarks/Blasted_Real/blasted_case143.cnf /home/samplingfm/Benchmarks/Blasted_Real/blasted_case_0_b12_1.cnf /home/samplingfm/Benchmarks/Blasted_Real/blasted_case_2_b12_1.cnf /home/samplingfm/Benchmarks/Blasted_Real/blasted_case_1_b12_1.cnf /home/samplingfm/Benchmarks/Blasted_Real/blasted_case115.cnf /home/samplingfm/Benchmarks/Blasted_Real/blasted_case114.cnf /home/samplingfm/Benchmarks/Blasted_Real/blasted_case131.cnf /home/samplingfm/Benchmarks/Blasted_Real/blasted_case116.cnf /home/samplingfm/Benchmarks/V15/s526_15_7.cnf /home/samplingfm/Benchmarks/V15/s526a_15_7.cnf /home/samplingfm/Benchmarks/Blasted_Real/blasted_squaring51.cnf /home/samplingfm/Benchmarks/Blasted_Real/blasted_squaring50.cnf /home/samplingfm/Benchmarks/V3/s953a_3_2.cnf /home/samplingfm/Benchmarks/V7/s953a_7_4.cnf /home/samplingfm/Benchmarks/V15/s953a_15_7.cnf /home/samplingfm/Benchmarks/V7/s820a_7_4.cnf /home/samplingfm/Benchmarks/V7/s832a_7_4.cnf /home/samplingfm/Benchmarks/V15/s820a_15_7.cnf /home/samplingfm/Benchmarks/V3/s1238a_3_2.cnf /home/samplingfm/Benchmarks/V3/s1196a_3_2.cnf /home/samplingfm/Benchmarks/V15/s832a_15_7.cnf /home/samplingfm/Benchmarks/Blasted_Real/blasted_squaring24.cnf /home/samplingfm/Benchmarks/Blasted_Real/blasted_squaring22.cnf /home/samplingfm/Benchmarks/Blasted_Real/blasted_squaring20.cnf /home/samplingfm/Benchmarks/Blasted_Real/blasted_squaring21.cnf /home/samplingfm/Benchmarks/V7/s1238a_7_4.cnf /home/samplingfm/Benchmarks/V7/s1196a_7_4.cnf /home/samplingfm/Benchmarks/Blasted_Real/blasted_squaring23.cnf /home/samplingfm/Benchmarks/GuidanceService2.sk_2_27.cnf /home/samplingfm/Benchmarks/V15/s1238a_15_7.cnf /home/samplingfm/Benchmarks/V15/s1196a_15_7.cnf /home/samplingfm/Benchmarks/Blasted_Real/blasted_case_0_b12_2.cnf /home/samplingfm/Benchmarks/Blasted_Real/blasted_case_2_b12_2.cnf /home/samplingfm/Benchmarks/Blasted_Real/blasted_case_1_b12_2.cnf /home/samplingfm/Benchmarks/Blasted_Real/blasted_squaring27.cnf /home/samplingfm/Benchmarks/Blasted_Real/blasted_squaring25.cnf /home/samplingfm/Benchmarks/Blasted_Real/blasted_squaring30.cnf /home/samplingfm/Benchmarks/Blasted_Real/blasted_squaring22.cnf /home/samplingfm/Benchmarks/Blasted_Real/blasted_squaring6.cnf /home/samplingfm/Benchmarks/Blasted_Real/blasted_squaring51.cnf /home/samplingfm/Benchmarks/Blasted_Real/blasted_squaring10.cnf /home/samplingfm/Benchmarks/Blasted_Real/blasted_squaring40.cnf /home/samplingfm/Benchmarks/Blasted_Real/blasted_squaring26.cnf /home/samplingfm/Benchmarks/Blasted_Real/blasted_squaring11.cnf /home/samplingfm/Benchmarks/GuidanceService2.sk_2_27.cnf /home/samplingfm/Benchmarks/Blasted_Real/blasted_squaring30.cnf /home/samplingfm/Benchmarks/Blasted_Real/blasted_squaring28.cnf /home/samplingfm/Benchmarks/Blasted_Real/blasted_squaring10.cnf /home/samplingfm/Benchmarks/Blasted_Real/blasted_squaring8.cnf /home/samplingfm/Benchmarks/Blasted_Real/blasted_squaring29.cnf /home/samplingfm/Benchmarks/IssueServiceImpl.sk_8_30.cnf /home/samplingfm/Benchmarks/Blasted_Real/blasted_squaring9.cnf /home/samplingfm/Benchmarks/Blasted_Real/blasted_squaring14.cnf /home/samplingfm/Benchmarks/ActivityService2.sk_10_27.cnf /home/samplingfm/Benchmarks/Blasted_Real/blasted_squaring12.cnf /home/samplingfm/Benchmarks/IterationService.sk_12_27.cnf /home/samplingfm/Benchmarks/Blasted_Real/blasted_squaring16.cnf /home/samplingfm/Benchmarks/Blasted_Real/blasted_squaring70.cnf /home/samplingfm/Benchmarks/PhaseService.sk_14_27.cnf /home/samplingfm/Benchmarks/V3/s27_new_3_2.cnf /home/samplingfm/Benchmarks/ActivityService2.sk_10_27.cnf /home/samplingfm/Benchmarks/IterationService.sk_12_27.cnf /home/samplingfm/Benchmarks/ActivityService2.sk_10_27.cnf /home/samplingfm/Benchmarks/111.sk_2_36.cnf /home/samplingfm/Benchmarks/ConcreteActivityService.sk_13_28.cnf /home/samplingfm/Benchmarks/V3/s5378a_3_2.cnf /home/samplingfm/Benchmarks/partition.sk_22_155.cnf /home/samplingfm/Benchmarks/ProjectService3.sk_12_55.cnf /home/samplingfm/Benchmarks/NotificationServiceImpl2.sk_10_36.cnf /home/samplingfm/Benchmarks/109.sk_4_36.cnf /home/samplingfm/Benchmarks/81.sk_5_51.cnf /home/samplingfm/Benchmarks/FMEasy/2.6.32-2var.cnf /home/samplingfm/Benchmarks/70.sk_3_40.cnf /home/samplingfm/Benchmarks/ProcessBean.sk_8_64.cnf /home/samplingfm/Benchmarks/FeatureModels/sam7ex256.cnf /home/samplingfm/Benchmarks/V3/s35932_3_2.cnf /home/samplingfm/Benchmarks/80.sk_2_48.cnf /home/samplingfm/Benchmarks/IterationService.sk_12_27.cnf /home/samplingfm/Benchmarks/doublyLinkedList.sk_8_37.cnf /home/samplingfm/Benchmarks/V3/s1196a_3_2.cnf /home/samplingfm/Benchmarks/LoginService.sk_20_34.cnf /home/samplingfm/Benchmarks/29.sk_3_45.cnf /home/samplingfm/Benchmarks/17.sk_3_45.cnf /home/samplingfm/Benchmarks/isolateRightmost.sk_7_481.cnf /home/samplingfm/Benchmarks/LoginService2.sk_23_36.cnf /home/samplingfm/Benchmarks/36.sk_3_77.cnf /home/samplingfm/Benchmarks/signedAvg.sk_8_1020.cnf /home/samplingfm/Benchmarks/enqueueSeqSK.sk_10_42.cnf /home/samplingfm/Benchmarks/tutorial3.sk_4_31.cnf "
     ]
    }
   ],
   "source": [
    "# final list as identified by QuickSampler paper (some formulae are simply not available)\n",
    "with open(\"final_list.txt\", \"w\") as fl:\n",
    "    for ffla in final_flas:\n",
    "        print(ffla, end=' ')\n",
    "        fl.write(ffla + '\\n')"
   ]
  },
  {
   "cell_type": "code",
   "execution_count": null,
   "metadata": {},
   "outputs": [],
   "source": []
  }
 ],
 "metadata": {
  "kernelspec": {
   "display_name": "Python 3",
   "language": "python",
   "name": "python3"
  },
  "language_info": {
   "codemirror_mode": {
    "name": "ipython",
    "version": 3
   },
   "file_extension": ".py",
   "mimetype": "text/x-python",
   "name": "python",
   "nbconvert_exporter": "python",
   "pygments_lexer": "ipython3",
   "version": "3.7.6"
  }
 },
 "nbformat": 4,
 "nbformat_minor": 2
}
