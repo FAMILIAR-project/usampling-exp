{
 "cells": [
  {
   "cell_type": "code",
   "execution_count": 1,
   "metadata": {},
   "outputs": [
    {
     "ename": "FileNotFoundError",
     "evalue": "[Errno 2] No such file or directory: '/Users/macher1/Documents/SANDBOX/Feature-Model-History-of-Linux/2013'",
     "output_type": "error",
     "traceback": [
      "\u001b[0;31m---------------------------------------------------------------------------\u001b[0m",
      "\u001b[0;31mFileNotFoundError\u001b[0m                         Traceback (most recent call last)",
      "\u001b[0;32m<ipython-input-1-ab183c0e76ce>\u001b[0m in \u001b[0;36m<module>\u001b[0;34m\u001b[0m\n\u001b[1;32m     18\u001b[0m \u001b[0;32mfor\u001b[0m \u001b[0myear\u001b[0m \u001b[0;32min\u001b[0m \u001b[0myears\u001b[0m\u001b[0;34m:\u001b[0m\u001b[0;34m\u001b[0m\u001b[0;34m\u001b[0m\u001b[0m\n\u001b[1;32m     19\u001b[0m     \u001b[0md_path\u001b[0m \u001b[0;34m=\u001b[0m \u001b[0mfm_folder\u001b[0m \u001b[0;34m+\u001b[0m \u001b[0mstr\u001b[0m\u001b[0;34m(\u001b[0m\u001b[0myear\u001b[0m\u001b[0;34m)\u001b[0m\u001b[0;34m\u001b[0m\u001b[0;34m\u001b[0m\u001b[0m\n\u001b[0;32m---> 20\u001b[0;31m     \u001b[0mdir_versions\u001b[0m \u001b[0;34m=\u001b[0m \u001b[0;34m[\u001b[0m\u001b[0md\u001b[0m \u001b[0;32mfor\u001b[0m \u001b[0md\u001b[0m \u001b[0;32min\u001b[0m \u001b[0mlistdir\u001b[0m\u001b[0;34m(\u001b[0m\u001b[0md_path\u001b[0m\u001b[0;34m)\u001b[0m \u001b[0;32mif\u001b[0m \u001b[0misdir\u001b[0m\u001b[0;34m(\u001b[0m\u001b[0mjoin\u001b[0m\u001b[0;34m(\u001b[0m\u001b[0md_path\u001b[0m\u001b[0;34m,\u001b[0m \u001b[0md\u001b[0m\u001b[0;34m)\u001b[0m\u001b[0;34m)\u001b[0m\u001b[0;34m]\u001b[0m\u001b[0;34m\u001b[0m\u001b[0;34m\u001b[0m\u001b[0m\n\u001b[0m\u001b[1;32m     21\u001b[0m     \u001b[0;32mfor\u001b[0m \u001b[0mdir_version\u001b[0m \u001b[0;32min\u001b[0m \u001b[0mdir_versions\u001b[0m\u001b[0;34m:\u001b[0m\u001b[0;34m\u001b[0m\u001b[0;34m\u001b[0m\u001b[0m\n\u001b[1;32m     22\u001b[0m         \u001b[0mprint\u001b[0m\u001b[0;34m(\u001b[0m\u001b[0;34m\"copying...\"\u001b[0m\u001b[0;34m,\u001b[0m \u001b[0;34m)\u001b[0m\u001b[0;34m\u001b[0m\u001b[0;34m\u001b[0m\u001b[0m\n",
      "\u001b[0;31mFileNotFoundError\u001b[0m: [Errno 2] No such file or directory: '/Users/macher1/Documents/SANDBOX/Feature-Model-History-of-Linux/2013'"
     ]
    }
   ],
   "source": [
    "from os import listdir\n",
    "from os.path import isfile, join\n",
    "from os.path import isdir\n",
    "from shutil import copyfile\n",
    "import zipfile\n",
    "import os\n",
    "\n",
    "\n",
    "\n",
    "'''\n",
    "A very ad hoc script\n",
    "TODO: remove temporary zip files as well as year directory\n",
    "'''\n",
    "fm_folder = \"/Users/macher1/Documents/SANDBOX/Feature-Model-History-of-Linux/\"\n",
    "target_folder = \"/Users/macher1/Documents/SANDBOX/fm_history_linux_dimacs/\"\n",
    "years = [2013, 2014, 2015, 2016, 2017, 2018]\n",
    "\n",
    "for year in years: \n",
    "    d_path = fm_folder + str(year)\n",
    "    dir_versions = [d for d in listdir(d_path) if isdir(join(d_path, d))]\n",
    "    for dir_version in dir_versions:\n",
    "        print(\"copying...\", )\n",
    "        print(join(d_path, dir_version, \"out.dimacs.zip\"))\n",
    "        print(\"as\", join(target_folder, dir_version + \".dimacs.zip\"))\n",
    "        copyfile(join(d_path, dir_version, \"out.dimacs.zip\"), join(target_folder, dir_version + \".dimacs.zip\"))\n",
    "        with zipfile.ZipFile(join(d_path, dir_version, \"out.dimacs.zip\"), \"r\") as zip_ref:\n",
    "            zip_ref.extractall(target_folder)\n",
    "            dimacs_file = zip_ref.namelist()[0]\n",
    "            os.rename(join(target_folder, dimacs_file), join(target_folder, dir_version + \".dimacs\"))\n",
    "       \n",
    "\n",
    "        \n",
    "        "
   ]
  },
  {
   "cell_type": "code",
   "execution_count": null,
   "metadata": {},
   "outputs": [],
   "source": []
  }
 ],
 "metadata": {
  "kernelspec": {
   "display_name": "Python 3",
   "language": "python",
   "name": "python3"
  },
  "language_info": {
   "codemirror_mode": {
    "name": "ipython",
    "version": 3
   },
   "file_extension": ".py",
   "mimetype": "text/x-python",
   "name": "python",
   "nbconvert_exporter": "python",
   "pygments_lexer": "ipython3",
   "version": "3.7.6"
  }
 },
 "nbformat": 4,
 "nbformat_minor": 2
}
