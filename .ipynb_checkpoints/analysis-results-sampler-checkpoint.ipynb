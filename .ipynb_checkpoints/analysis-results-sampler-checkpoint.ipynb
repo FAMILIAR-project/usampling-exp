{
 "cells": [
  {
   "cell_type": "code",
   "execution_count": 1,
   "metadata": {},
   "outputs": [
    {
     "name": "stdout",
     "output_type": "stream",
     "text": [
      "KUS over fla\n",
      "False    46\n",
      "True     24\n",
      "Name: timeout, dtype: int64\n",
      "KUS over fm\n",
      "False    59\n",
      "True     58\n",
      "Name: timeout, dtype: int64\n",
      "KUS over fmeasy\n",
      "True     8\n",
      "False    8\n",
      "Name: timeout, dtype: int64\n",
      "KUS over v15\n",
      "False    22\n",
      "True      8\n",
      "Name: timeout, dtype: int64\n",
      "KUS over blaster\n",
      "False    143\n",
      "True      67\n",
      "Name: timeout, dtype: int64\n",
      "\n",
      "\n",
      "SPUR over fla\n",
      "False    50\n",
      "True     20\n",
      "Name: timeout, dtype: int64\n",
      "SPUR over fm\n",
      "False    117\n",
      "Name: timeout, dtype: int64\n",
      "SPUR over fmeasy\n",
      "False    11\n",
      "True      5\n",
      "Name: timeout, dtype: int64\n",
      "SPUR over v15\n",
      "False    24\n",
      "True      6\n",
      "Name: timeout, dtype: int64\n",
      "SPUR over blaster\n",
      "False    158\n",
      "True      52\n",
      "Name: timeout, dtype: int64\n",
      "\n",
      "\n"
     ]
    }
   ],
   "source": [
    "import pandas as pd\n",
    "import numpy as np \n",
    "import matplotlib.pyplot as plt \n",
    "\n",
    "dataset_names = ['fla', 'fm', 'fmeasy', 'v15', 'blaster'] # v3 and v7 same as v15\n",
    "samplers = ['KUS', 'SPUR']\n",
    " \n",
    "    \n",
    "for sampler in samplers:\n",
    "    for dataset_name in dataset_names:   \n",
    "        df_result = pd.read_csv(\"experiments-\" + sampler + \"-\" + dataset_name + \".csv\")\n",
    "#        plt.figure()\n",
    "        print(sampler + \" over \" + dataset_name)\n",
    "        print(df_result['timeout'].value_counts())\n",
    "    print()\n",
    "    print()\n",
    "#        df_result['timeout'].value_counts().plot(kind='pie', title=sampler + \" over \" + dataset_name)\n",
    "#        plt.show()"
   ]
  },
  {
   "cell_type": "code",
   "execution_count": 2,
   "metadata": {},
   "outputs": [
    {
     "name": "stdout",
     "output_type": "stream",
     "text": [
      "SPUR > KUS (since SPUR timeouts less than KUS)\n"
     ]
    },
    {
     "data": {
      "text/plain": [
       "(83, 165)"
      ]
     },
     "execution_count": 2,
     "metadata": {},
     "output_type": "execute_result"
    }
   ],
   "source": [
    "df_kus = pd.concat([pd.read_csv(\"experiments-\" + \"KUS\" + \"-\" + dataset_name + \".csv\") for dataset_name in dataset_names], ignore_index=True)\n",
    "df_kus['sampler_name'] = \"KUS\"\n",
    "df_spur = pd.concat([pd.read_csv(\"experiments-\" + \"SPUR\" + \"-\" + dataset_name + \".csv\") for dataset_name in dataset_names], ignore_index=True)\n",
    "df_spur['sampler_name'] = \"SPUR\"\n",
    "df_all_samplers = pd.concat([df_spur, df_kus], sort=False)\n",
    "\n",
    "print(\"SPUR > KUS (since SPUR timeouts less than KUS)\")\n",
    "len(df_all_samplers.query(\"sampler_name == 'SPUR' & timeout == True\")), len(df_all_samplers.query(\"sampler_name == 'KUS' & timeout == True\"))"
   ]
  },
  {
   "cell_type": "code",
   "execution_count": 3,
   "metadata": {},
   "outputs": [
    {
     "name": "stdout",
     "output_type": "stream",
     "text": [
      "formulas for which SPUR timeout but not KUS\n",
      "['/home/samplingfm/Benchmarks/ProjectService3.sk_12_55.cnf', '/home/samplingfm/Benchmarks/Blasted_Real/blasted_case140.cnf', '/home/samplingfm/Benchmarks/Blasted_Real/blasted_case_1_ptb_1.cnf', '/home/samplingfm/Benchmarks/Blasted_Real/blasted_case18.cnf', '/home/samplingfm/Benchmarks/Blasted_Real/blasted_case_2_ptb_1.cnf']\n",
      "\n",
      "\n",
      "formulas for which KUS timeout but not SPUR\n",
      "['/home/samplingfm/Benchmarks/36.sk_3_77.cnf', '/home/samplingfm/Benchmarks/79.sk_4_40.cnf', '/home/samplingfm/Benchmarks/54.sk_12_97.cnf', '/home/samplingfm/Benchmarks/lss.sk_6_7.cnf', '/home/samplingfm/Benchmarks/Pollard.sk_1_10.cnf', '/home/samplingfm/Benchmarks/FeatureModels/XSEngine.cnf', '/home/samplingfm/Benchmarks/FeatureModels/aeb.cnf', '/home/samplingfm/Benchmarks/FeatureModels/excalibur_arm9.cnf', '/home/samplingfm/Benchmarks/FeatureModels/ipaq.cnf', '/home/samplingfm/Benchmarks/FeatureModels/integrator_arm9.cnf', '/home/samplingfm/Benchmarks/FeatureModels/phycore.cnf', '/home/samplingfm/Benchmarks/FeatureModels/integrator_arm7.cnf', '/home/samplingfm/Benchmarks/FeatureModels/adderII.cnf', '/home/samplingfm/Benchmarks/FeatureModels/lpcmt.cnf', '/home/samplingfm/Benchmarks/FeatureModels/dreamcast.cnf', '/home/samplingfm/Benchmarks/FeatureModels/gps4020.cnf', '/home/samplingfm/Benchmarks/FeatureModels/vrc4375.cnf', '/home/samplingfm/Benchmarks/FeatureModels/jmr3904.cnf', '/home/samplingfm/Benchmarks/FeatureModels/ref4955.cnf', '/home/samplingfm/Benchmarks/FeatureModels/cq7708.cnf', '/home/samplingfm/Benchmarks/FeatureModels/adder.cnf', '/home/samplingfm/Benchmarks/FeatureModels/snds.cnf', '/home/samplingfm/Benchmarks/FeatureModels/aim711.cnf', '/home/samplingfm/Benchmarks/FeatureModels/se7751.cnf', '/home/samplingfm/Benchmarks/FeatureModels/npwr.cnf', '/home/samplingfm/Benchmarks/FeatureModels/se77x9.cnf', '/home/samplingfm/Benchmarks/FeatureModels/ts6.cnf', '/home/samplingfm/Benchmarks/FeatureModels/mace1.cnf', '/home/samplingfm/Benchmarks/FeatureModels/pc_i82559.cnf', '/home/samplingfm/Benchmarks/FeatureModels/viper.cnf', '/home/samplingfm/Benchmarks/FeatureModels/smdk2410.cnf', '/home/samplingfm/Benchmarks/FeatureModels/pc_vmWare.cnf', '/home/samplingfm/Benchmarks/FeatureModels/csb281.cnf', '/home/samplingfm/Benchmarks/FeatureModels/prpmc1100.cnf', '/home/samplingfm/Benchmarks/FeatureModels/phycore229x.cnf', '/home/samplingfm/Benchmarks/FeatureModels/ea2468.cnf', '/home/samplingfm/Benchmarks/FeatureModels/asb2305.cnf', '/home/samplingfm/Benchmarks/FeatureModels/brutus.cnf', '/home/samplingfm/Benchmarks/FeatureModels/pid.cnf', '/home/samplingfm/Benchmarks/FeatureModels/sam7ex256.cnf', '/home/samplingfm/Benchmarks/FeatureModels/pc_rltk8139.cnf', '/home/samplingfm/Benchmarks/FeatureModels/pc_i82544.cnf', '/home/samplingfm/Benchmarks/FeatureModels/edb7xxx.cnf', '/home/samplingfm/Benchmarks/FeatureModels/hs7729pci.cnf', '/home/samplingfm/Benchmarks/FeatureModels/vads.cnf', '/home/samplingfm/Benchmarks/FeatureModels/rattler.cnf', '/home/samplingfm/Benchmarks/FeatureModels/pc_usb_d12.cnf', '/home/samplingfm/Benchmarks/FeatureModels/at91sam7xek.cnf', '/home/samplingfm/Benchmarks/FeatureModels/mb93093.cnf', '/home/samplingfm/Benchmarks/FeatureModels/aki3068net.cnf', '/home/samplingfm/Benchmarks/FeatureModels/olpcl2294.cnf', '/home/samplingfm/Benchmarks/FeatureModels/innovator.cnf', '/home/samplingfm/Benchmarks/FeatureModels/olpch2294.cnf', '/home/samplingfm/Benchmarks/FeatureModels/cerf.cnf', '/home/samplingfm/Benchmarks/FeatureModels/sh7708.cnf', '/home/samplingfm/Benchmarks/FeatureModels/olpce2294.cnf', '/home/samplingfm/Benchmarks/FeatureModels/mbx.cnf', '/home/samplingfm/Benchmarks/FeatureModels/nano.cnf', '/home/samplingfm/Benchmarks/FeatureModels/eb42.cnf', '/home/samplingfm/Benchmarks/FeatureModels/cerfpda.cnf', '/home/samplingfm/Benchmarks/FeatureModels/picasso.cnf', '/home/samplingfm/Benchmarks/FeatureModels/aaed2000.cnf', '/home/samplingfm/Benchmarks/FeatureModels/moab.cnf', '/home/samplingfm/Benchmarks/FMEasy/coreboot.cnf', '/home/samplingfm/Benchmarks/FMEasy/embtoolkit.cnf', '/home/samplingfm/Benchmarks/FMEasy/freebsd-icse11.cnf', '/home/samplingfm/Benchmarks/V15/s1423a_15_7.cnf', '/home/samplingfm/Benchmarks/V15/s35932_15_7.cnf', '/home/samplingfm/Benchmarks/Blasted_Real/blasted_squaring24.cnf', '/home/samplingfm/Benchmarks/Blasted_Real/blasted_squaring21.cnf', '/home/samplingfm/Benchmarks/Blasted_Real/blasted_squaring3.cnf', '/home/samplingfm/Benchmarks/Blasted_Real/blasted_squaring8.cnf', '/home/samplingfm/Benchmarks/Blasted_Real/blasted_squaring4.cnf', '/home/samplingfm/Benchmarks/Blasted_Real/blasted_squaring16.cnf', '/home/samplingfm/Benchmarks/Blasted_Real/blasted_squaring1.cnf', '/home/samplingfm/Benchmarks/Blasted_Real/blasted_squaring22.cnf', '/home/samplingfm/Benchmarks/Blasted_Real/blasted_squaring12.cnf', '/home/samplingfm/Benchmarks/Blasted_Real/blasted_squaring2.cnf', '/home/samplingfm/Benchmarks/Blasted_Real/blasted_squaring28.cnf', '/home/samplingfm/Benchmarks/Blasted_Real/blasted_squaring10.cnf', '/home/samplingfm/Benchmarks/Blasted_Real/blasted_squaring7.cnf', '/home/samplingfm/Benchmarks/Blasted_Real/blasted_squaring6.cnf', '/home/samplingfm/Benchmarks/Blasted_Real/blasted_squaring11.cnf', '/home/samplingfm/Benchmarks/Blasted_Real/blasted_case49.cnf', '/home/samplingfm/Benchmarks/Blasted_Real/blasted_squaring14.cnf', '/home/samplingfm/Benchmarks/Blasted_Real/blasted_squaring9.cnf', '/home/samplingfm/Benchmarks/Blasted_Real/blasted_squaring5.cnf']\n"
     ]
    }
   ],
   "source": [
    "#df_all_samplers.groupby(\"formula_file\")['timeout'].sum()\n",
    "#for fla_spur_fail in df_all_samplers.query(\"sampler_name == 'SPUR' & timeout == True\")['formula_file']:\n",
    "#    if len(df_all_samplers.query(\"sampler_name == 'KUS' & timeout == True & formula_file == '\" + fla_spur_fail + \"'\")) > 0:\n",
    "#        print(\"KUS fails too for fla:\", fla_spur_fail)  \n",
    "#        continue\n",
    "#    else:\n",
    "#        print(\"KUS did NOT fail for fla:\", fla_spur_fail)\n",
    "        \n",
    "#print()\n",
    "#print()\n",
    "#print()\n",
    "#print()\n",
    "#for fla_kus_fail in df_all_samplers.query(\"sampler_name == 'KUS' & timeout == True\")['formula_file']:\n",
    "#    if len(df_all_samplers.query(\"sampler_name == 'SPUR' & timeout == True & formula_file == '\" + fla_kus_fail + \"'\")) > 0:\n",
    "#        print(\"SPUR fails too for fla:\", fla_kus_fail)\n",
    "#        continue\n",
    "#    else:\n",
    "#        print(\"SPUR did NOT fail for fla:\", fla_kus_fail)\n",
    "\n",
    "print(\"formulas for which SPUR timeout but not KUS\")\n",
    "print([fla_spur_fail for fla_spur_fail in df_all_samplers.query(\"sampler_name == 'SPUR' & timeout == True\")['formula_file'] if len(df_all_samplers.query(\"sampler_name == 'KUS' & timeout == False & formula_file == '\" + fla_spur_fail + \"'\")) > 0])\n",
    "print()\n",
    "print()\n",
    "print(\"formulas for which KUS timeout but not SPUR\")\n",
    "print([fla_kus_fail for fla_kus_fail in df_all_samplers.query(\"sampler_name == 'KUS' & timeout == True\")['formula_file'] if len(df_all_samplers.query(\"sampler_name == 'SPUR' & timeout == False & formula_file == '\" + fla_kus_fail + \"'\")) > 0])\n"
   ]
  },
  {
   "cell_type": "code",
   "execution_count": 4,
   "metadata": {},
   "outputs": [
    {
     "name": "stdout",
     "output_type": "stream",
     "text": [
      "KUS wins 5 SPUR wins 87\n",
      "both timeout 78\n",
      "KUS timeouts 165 SPUR timeouts 83\n"
     ]
    },
    {
     "data": {
      "text/html": [
       "<div>\n",
       "<style scoped>\n",
       "    .dataframe tbody tr th:only-of-type {\n",
       "        vertical-align: middle;\n",
       "    }\n",
       "\n",
       "    .dataframe tbody tr th {\n",
       "        vertical-align: top;\n",
       "    }\n",
       "\n",
       "    .dataframe thead th {\n",
       "        text-align: right;\n",
       "    }\n",
       "</style>\n",
       "<table border=\"1\" class=\"dataframe\">\n",
       "  <thead>\n",
       "    <tr style=\"text-align: right;\">\n",
       "      <th></th>\n",
       "      <th>kus_timeout</th>\n",
       "      <th>formula_file</th>\n",
       "      <th>spur_timeout</th>\n",
       "      <th>diagreement</th>\n",
       "      <th>kus_wins</th>\n",
       "      <th>spur_wins</th>\n",
       "      <th>both_timeout</th>\n",
       "    </tr>\n",
       "  </thead>\n",
       "  <tbody>\n",
       "    <tr>\n",
       "      <th>35</th>\n",
       "      <td>False</td>\n",
       "      <td>/home/samplingfm/Benchmarks/ProjectService3.sk...</td>\n",
       "      <td>True</td>\n",
       "      <td>1</td>\n",
       "      <td>1</td>\n",
       "      <td>0</td>\n",
       "      <td>False</td>\n",
       "    </tr>\n",
       "    <tr>\n",
       "      <th>263</th>\n",
       "      <td>False</td>\n",
       "      <td>/home/samplingfm/Benchmarks/Blasted_Real/blast...</td>\n",
       "      <td>True</td>\n",
       "      <td>1</td>\n",
       "      <td>1</td>\n",
       "      <td>0</td>\n",
       "      <td>False</td>\n",
       "    </tr>\n",
       "    <tr>\n",
       "      <th>346</th>\n",
       "      <td>False</td>\n",
       "      <td>/home/samplingfm/Benchmarks/Blasted_Real/blast...</td>\n",
       "      <td>True</td>\n",
       "      <td>1</td>\n",
       "      <td>1</td>\n",
       "      <td>0</td>\n",
       "      <td>False</td>\n",
       "    </tr>\n",
       "    <tr>\n",
       "      <th>381</th>\n",
       "      <td>False</td>\n",
       "      <td>/home/samplingfm/Benchmarks/Blasted_Real/blast...</td>\n",
       "      <td>True</td>\n",
       "      <td>1</td>\n",
       "      <td>1</td>\n",
       "      <td>0</td>\n",
       "      <td>False</td>\n",
       "    </tr>\n",
       "    <tr>\n",
       "      <th>412</th>\n",
       "      <td>False</td>\n",
       "      <td>/home/samplingfm/Benchmarks/Blasted_Real/blast...</td>\n",
       "      <td>True</td>\n",
       "      <td>1</td>\n",
       "      <td>1</td>\n",
       "      <td>0</td>\n",
       "      <td>False</td>\n",
       "    </tr>\n",
       "  </tbody>\n",
       "</table>\n",
       "</div>"
      ],
      "text/plain": [
       "     kus_timeout                                       formula_file  \\\n",
       "35         False  /home/samplingfm/Benchmarks/ProjectService3.sk...   \n",
       "263        False  /home/samplingfm/Benchmarks/Blasted_Real/blast...   \n",
       "346        False  /home/samplingfm/Benchmarks/Blasted_Real/blast...   \n",
       "381        False  /home/samplingfm/Benchmarks/Blasted_Real/blast...   \n",
       "412        False  /home/samplingfm/Benchmarks/Blasted_Real/blast...   \n",
       "\n",
       "     spur_timeout  diagreement  kus_wins  spur_wins  both_timeout  \n",
       "35           True            1         1          0         False  \n",
       "263          True            1         1          0         False  \n",
       "346          True            1         1          0         False  \n",
       "381          True            1         1          0         False  \n",
       "412          True            1         1          0         False  "
      ]
     },
     "execution_count": 4,
     "metadata": {},
     "output_type": "execute_result"
    }
   ],
   "source": [
    "df_kus_only = df_all_samplers.query(\"sampler_name == 'KUS'\")[['timeout', 'formula_file']]\n",
    "df_kus_only = df_kus_only.rename(columns={\"timeout\" : \"kus_timeout\"})\n",
    "df_spur_only = df_all_samplers.query(\"sampler_name == 'SPUR'\")[['timeout', 'formula_file']]\n",
    "df_spur_only = df_spur_only.rename(columns={\"timeout\" : \"spur_timeout\"})\n",
    "\n",
    "\n",
    "def disagreement_timeout(row):\n",
    "    return (row['kus_timeout'] & ~row['spur_timeout']) | (~row['kus_timeout'] & row['spur_timeout'])\n",
    "\n",
    "def disagreement_spurwins(row):\n",
    "    return row['kus_timeout'] & ~row['spur_timeout']\n",
    "\n",
    "def disagreement_kuswins(row):\n",
    "    return row['spur_timeout'] & ~row['kus_timeout']\n",
    "\n",
    "def both_timeout(row):\n",
    "    return row['spur_timeout'] & row['kus_timeout']\n",
    "\n",
    "df_kusspur = df_kus_only.merge(df_spur_only)\n",
    "df_kusspur['diagreement'] = df_kusspur.apply(disagreement_timeout, axis=1)\n",
    "df_kusspur['kus_wins'] = df_kusspur.apply(disagreement_kuswins, axis=1)\n",
    "df_kusspur['spur_wins'] = df_kusspur.apply(disagreement_spurwins, axis=1)\n",
    "df_kusspur['both_timeout'] = df_kusspur.apply(both_timeout, axis=1)\n",
    "print(\"KUS wins\", df_kusspur['kus_wins'].sum(), \"SPUR wins\", df_kusspur['spur_wins'].sum())\n",
    "print(\"both timeout\", df_kusspur['both_timeout'].sum())\n",
    "print(\"KUS timeouts\", df_kusspur['kus_timeout'].sum(), \"SPUR timeouts\", df_kusspur['spur_timeout'].sum())\n",
    "df_kusspur.query(\"kus_wins == True\")"
   ]
  },
  {
   "cell_type": "code",
   "execution_count": null,
   "metadata": {},
   "outputs": [],
   "source": []
  }
 ],
 "metadata": {
  "kernelspec": {
   "display_name": "Python 3",
   "language": "python",
   "name": "python3"
  },
  "language_info": {
   "codemirror_mode": {
    "name": "ipython",
    "version": 3
   },
   "file_extension": ".py",
   "mimetype": "text/x-python",
   "name": "python",
   "nbconvert_exporter": "python",
   "pygments_lexer": "ipython3",
   "version": "3.7.3"
  }
 },
 "nbformat": 4,
 "nbformat_minor": 2
}
